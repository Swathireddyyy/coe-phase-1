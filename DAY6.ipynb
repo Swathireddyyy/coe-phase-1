{
 "cells": [
  {
   "cell_type": "code",
   "execution_count": 1,
   "id": "458ad9c4-8621-4671-ba04-5ada96668798",
   "metadata": {},
   "outputs": [
    {
     "name": "stdout",
     "output_type": "stream",
     "text": [
      "['False', 'None', 'True', 'and', 'as', 'assert', 'async', 'await', 'break', 'class', 'continue', 'def', 'del', 'elif', 'else', 'except', 'finally', 'for', 'from', 'global', 'if', 'import', 'in', 'is', 'lambda', 'nonlocal', 'not', 'or', 'pass', 'raise', 'return', 'try', 'while', 'with', 'yield']\n"
     ]
    }
   ],
   "source": [
    "import keyword\n",
    "print(keyword.kwlist)"
   ]
  },
  {
   "cell_type": "markdown",
   "id": "2ae5635e-c9d7-462f-9f82-ef30c7cb0206",
   "metadata": {},
   "source": [
    "#use as a calucator\n",
    "2*30"
   ]
  },
  {
   "cell_type": "code",
   "execution_count": 4,
   "id": "7d2b3ec9-15ef-461c-8efa-e76a109d3e3a",
   "metadata": {},
   "outputs": [
    {
     "data": {
      "text/plain": [
       "20"
      ]
     },
     "execution_count": 4,
     "metadata": {},
     "output_type": "execute_result"
    }
   ],
   "source": [
    "2*10"
   ]
  },
  {
   "cell_type": "code",
   "execution_count": 6,
   "id": "fbba9856-a0dd-46ae-8ba4-3e2183377a6d",
   "metadata": {},
   "outputs": [
    {
     "data": {
      "text/plain": [
       "10"
      ]
     },
     "execution_count": 6,
     "metadata": {},
     "output_type": "execute_result"
    }
   ],
   "source": [
    "2+6+1+1"
   ]
  },
  {
   "cell_type": "code",
   "execution_count": 8,
   "id": "a619c613-58e3-416a-a3ed-f8e3f3171c38",
   "metadata": {},
   "outputs": [
    {
     "data": {
      "text/plain": [
       "int"
      ]
     },
     "execution_count": 8,
     "metadata": {},
     "output_type": "execute_result"
    }
   ],
   "source": [
    "type(30)"
   ]
  },
  {
   "cell_type": "code",
   "execution_count": 12,
   "id": "43b5ae9f-71fb-4e5f-98dd-a938331df519",
   "metadata": {},
   "outputs": [
    {
     "data": {
      "text/plain": [
       "str"
      ]
     },
     "execution_count": 12,
     "metadata": {},
     "output_type": "execute_result"
    }
   ],
   "source": [
    "type('swathi')"
   ]
  },
  {
   "cell_type": "code",
   "execution_count": 14,
   "id": "8540e8ed-f28c-4d3f-ae9b-a16d62c93915",
   "metadata": {},
   "outputs": [
    {
     "data": {
      "text/plain": [
       "bool"
      ]
     },
     "execution_count": 14,
     "metadata": {},
     "output_type": "execute_result"
    }
   ],
   "source": [
    "type(True)"
   ]
  },
  {
   "cell_type": "code",
   "execution_count": 18,
   "id": "9b3c3692-08db-4f7f-a5a9-7f3e4312366b",
   "metadata": {},
   "outputs": [
    {
     "name": "stdout",
     "output_type": "stream",
     "text": [
      "10 10 10\n"
     ]
    }
   ],
   "source": [
    "a=b=c=10\n",
    "print(a,b,c)"
   ]
  },
  {
   "cell_type": "code",
   "execution_count": 22,
   "id": "d628a902-179a-468e-b126-ea5bb097d5f7",
   "metadata": {},
   "outputs": [
    {
     "name": "stdout",
     "output_type": "stream",
     "text": [
      "1 20 hello\n"
     ]
    }
   ],
   "source": [
    "a,b,c=1,20,'hello'\n",
    "print(a,b,c)"
   ]
  },
  {
   "cell_type": "code",
   "execution_count": 28,
   "id": "6eb91473-267a-449f-9a0e-a92ddf2f7b36",
   "metadata": {},
   "outputs": [
    {
     "name": "stdout",
     "output_type": "stream",
     "text": [
      "10,20\n"
     ]
    }
   ],
   "source": [
    "a=10\n",
    "b=20\n",
    "print(a,b,sep=',')                    #print(objects,sep=' ',end='\\n')"
   ]
  },
  {
   "cell_type": "code",
   "execution_count": 30,
   "id": "ceee8ed3-9d5f-418b-b6e9-cf7e1f816a16",
   "metadata": {},
   "outputs": [
    {
     "name": "stdout",
     "output_type": "stream",
     "text": [
      "1#2#3#4$"
     ]
    }
   ],
   "source": [
    "print(1,2,3,4,sep='#',end='$')\n"
   ]
  },
  {
   "cell_type": "code",
   "execution_count": 34,
   "id": "4b5daa69-7c3b-4f0c-ad11-2f687112d165",
   "metadata": {},
   "outputs": [
    {
     "name": "stdout",
     "output_type": "stream",
     "text": [
      "The Given Employee Number is:    101\n",
      "The Given Employee Name is:    swathi\n",
      "The Given Employee Salary is:    456.35\n"
     ]
    }
   ],
   "source": [
    "a=101\n",
    "b='swathi'\n",
    "c=456.35\n",
    "print(\"The Given Employee Number is:   \",a)\n",
    "print(\"The Given Employee Name is:   \",b)\n",
    "print(\"The Given Employee Salary is:   \",c)"
   ]
  },
  {
   "cell_type": "code",
   "execution_count": 38,
   "id": "1af1a515-2805-4a0b-898e-c0c90a3d001d",
   "metadata": {},
   "outputs": [
    {
     "name": "stdin",
     "output_type": "stream",
     "text": [
      "enter the employee number:  101\n",
      "enter the employee name:  swathi\n",
      "enter the employee salary:   439.21\n"
     ]
    },
    {
     "name": "stdout",
     "output_type": "stream",
     "text": [
      "enter the employee number 101\n",
      "enter the employee name swathi\n",
      "enter the employee salary 439.21\n"
     ]
    }
   ],
   "source": [
    "s=int(input(\"enter the employee number: \"))\n",
    "l=int(input(\"enter the length: \"))\n",
    "f=float(input(\"enter the employee salary:  \"))\n",
    "print(\"enter the employee number\",s)\n",
    "print(\"enter the employee name\",d)\n",
    "print(\"enter the employee salary\",f)"
   ]
  },
  {
   "cell_type": "code",
   "execution_count": 40,
   "id": "887397a1-efd7-4455-a08b-235c90c93f8e",
   "metadata": {},
   "outputs": [
    {
     "name": "stdin",
     "output_type": "stream",
     "text": [
      "Enter the radius:  20\n"
     ]
    },
    {
     "name": "stdout",
     "output_type": "stream",
     "text": [
      "1256.0\n"
     ]
    }
   ],
   "source": [
    "r=int(input(\"Enter the radius: \"))\n",
    "pi=3.14\n",
    "area=pi*r*r\n",
    "print(area)"
   ]
  },
  {
   "cell_type": "code",
   "execution_count": 44,
   "id": "aa4d1f46-2e0b-4c4c-90ce-0701af4563a4",
   "metadata": {},
   "outputs": [
    {
     "name": "stdin",
     "output_type": "stream",
     "text": [
      "enter the length:  2\n",
      "enter the breadth:  3\n"
     ]
    },
    {
     "name": "stdout",
     "output_type": "stream",
     "text": [
      "6 10\n"
     ]
    }
   ],
   "source": [
    "#write a program too calculate area curcuference of rectangle\n",
    "l=int(input(\"enter the length: \"))\n",
    "b=int(input(\"enter the breadth: \"))\n",
    "a=l*b\n",
    "c=2*(l+b)\n",
    "print(a,c)"
   ]
  },
  {
   "cell_type": "code",
   "execution_count": 52,
   "id": "c600b1bf-c9c1-4924-a893-7ef03f0477e1",
   "metadata": {},
   "outputs": [
    {
     "name": "stdin",
     "output_type": "stream",
     "text": [
      "enter the student number:  1\n",
      "enter the student name:  swathi\n",
      "enter the math marks:  98\n",
      "enter the science marks:  87\n",
      "enter the telugu marks:  99\n"
     ]
    },
    {
     "name": "stdout",
     "output_type": "stream",
     "text": [
      "total:  284\n",
      "avg:  218.0\n"
     ]
    }
   ],
   "source": [
    "#write a program to enter student number, student name, 3 sub marks, calculate total and avg of student and display the repost\n",
    "n=int(input(\"enter the student number: \"))\n",
    "s=input(\"enter the student name: \")\n",
    "m=int(input(\"enter the math marks: \"))\n",
    "s=int(input(\"enter the science marks: \"))\n",
    "t=int(input(\"enter the telugu marks: \"))\n",
    "total=m+s+t\n",
    "avg=m+s+t/3\n",
    "print(\"total: \",total)\n",
    "print(\"avg: \",avg)"
   ]
  },
  {
   "cell_type": "code",
   "execution_count": 54,
   "id": "cccf8ed6-8604-4fe7-bb3c-7caa1e57940a",
   "metadata": {},
   "outputs": [
    {
     "data": {
      "text/plain": [
       "10.39"
      ]
     },
     "execution_count": 54,
     "metadata": {},
     "output_type": "execute_result"
    }
   ],
   "source": [
    "round(10.395,2)             #rounf figure"
   ]
  },
  {
   "cell_type": "code",
   "execution_count": 64,
   "id": "9c861f94-856f-4b73-a67a-5adb6965e106",
   "metadata": {},
   "outputs": [
    {
     "name": "stdin",
     "output_type": "stream",
     "text": [
      "enter the number:  45\n"
     ]
    },
    {
     "name": "stdout",
     "output_type": "stream",
     "text": [
      "greater than 15\n"
     ]
    }
   ],
   "source": [
    "a=int(input(\"enter the number: \"))\n",
    "if a<15:\n",
    "    print(\"less than 15\")\n",
    "else:\n",
    "    print(\"greater than 15\")"
   ]
  },
  {
   "cell_type": "code",
   "execution_count": 72,
   "id": "5507de39-15a3-4485-be26-12356f5b2475",
   "metadata": {},
   "outputs": [
    {
     "name": "stdin",
     "output_type": "stream",
     "text": [
      "enter the number:  3\n"
     ]
    },
    {
     "name": "stdout",
     "output_type": "stream",
     "text": [
      "odd\n"
     ]
    }
   ],
   "source": [
    "# check the given number odd or even \n",
    "a=int(input(\"enter the number: \"))\n",
    "if a%2==0:\n",
    "    print(\"even\")\n",
    "else:\n",
    "\n",
    "    print(\"odd\")"
   ]
  },
  {
   "cell_type": "code",
   "execution_count": 80,
   "id": "1787c536-9868-4faf-8ed4-38d1cefa639f",
   "metadata": {},
   "outputs": [
    {
     "name": "stdout",
     "output_type": "stream",
     "text": [
      "both are equal\n"
     ]
    }
   ],
   "source": [
    "a=10 \n",
    "b=10\n",
    "if a>b:\n",
    "    print(\"a is big\")\n",
    "elif b>a:\n",
    "    print(\"b is big\")\n",
    "else:\n",
    "    print(\"both are equal\")"
   ]
  },
  {
   "cell_type": "code",
   "execution_count": 88,
   "id": "b5fec20a-15f6-48cd-acb1-c6efafea2fb7",
   "metadata": {},
   "outputs": [
    {
     "name": "stdout",
     "output_type": "stream",
     "text": [
      "1\n",
      "2\n",
      "3\n",
      "4\n",
      "5\n"
     ]
    }
   ],
   "source": [
    "#loop control\n",
    "i=1\n",
    "while i<=5:\n",
    "    print(i)\n",
    "    i=i+1"
   ]
  },
  {
   "cell_type": "code",
   "execution_count": 94,
   "id": "4d526adf-56f6-45b4-a2bc-d19fdac8eae8",
   "metadata": {},
   "outputs": [
    {
     "name": "stdin",
     "output_type": "stream",
     "text": [
      " 200\n"
     ]
    },
    {
     "name": "stdout",
     "output_type": "stream",
     "text": [
      "1\n",
      "2\n",
      "3\n",
      "4\n",
      "5\n",
      "6\n",
      "7\n",
      "8\n",
      "9\n",
      "10\n",
      "11\n",
      "12\n",
      "13\n",
      "14\n",
      "15\n",
      "16\n",
      "17\n",
      "18\n",
      "19\n",
      "20\n",
      "21\n",
      "22\n",
      "23\n",
      "24\n",
      "25\n",
      "26\n",
      "27\n",
      "28\n",
      "29\n",
      "30\n",
      "31\n",
      "32\n",
      "33\n",
      "34\n",
      "35\n",
      "36\n",
      "37\n",
      "38\n",
      "39\n",
      "40\n",
      "41\n",
      "42\n",
      "43\n",
      "44\n",
      "45\n",
      "46\n",
      "47\n",
      "48\n",
      "49\n",
      "50\n",
      "51\n",
      "52\n",
      "53\n",
      "54\n",
      "55\n",
      "56\n",
      "57\n",
      "58\n",
      "59\n",
      "60\n",
      "61\n",
      "62\n",
      "63\n",
      "64\n",
      "65\n",
      "66\n",
      "67\n",
      "68\n",
      "69\n",
      "70\n",
      "71\n",
      "72\n",
      "73\n",
      "74\n",
      "75\n",
      "76\n",
      "77\n",
      "78\n",
      "79\n",
      "80\n",
      "81\n",
      "82\n",
      "83\n",
      "84\n",
      "85\n",
      "86\n",
      "87\n",
      "88\n",
      "89\n",
      "90\n",
      "91\n",
      "92\n",
      "93\n",
      "94\n",
      "95\n",
      "96\n",
      "97\n",
      "98\n",
      "99\n",
      "100\n",
      "101\n",
      "102\n",
      "103\n",
      "104\n",
      "105\n",
      "106\n",
      "107\n",
      "108\n",
      "109\n",
      "110\n",
      "111\n",
      "112\n",
      "113\n",
      "114\n",
      "115\n",
      "116\n",
      "117\n",
      "118\n",
      "119\n",
      "120\n",
      "121\n",
      "122\n",
      "123\n",
      "124\n",
      "125\n",
      "126\n",
      "127\n",
      "128\n",
      "129\n",
      "130\n",
      "131\n",
      "132\n",
      "133\n",
      "134\n",
      "135\n",
      "136\n",
      "137\n",
      "138\n",
      "139\n",
      "140\n",
      "141\n",
      "142\n",
      "143\n",
      "144\n",
      "145\n",
      "146\n",
      "147\n",
      "148\n",
      "149\n",
      "150\n",
      "151\n",
      "152\n",
      "153\n",
      "154\n",
      "155\n",
      "156\n",
      "157\n",
      "158\n",
      "159\n",
      "160\n",
      "161\n",
      "162\n",
      "163\n",
      "164\n",
      "165\n",
      "166\n",
      "167\n",
      "168\n",
      "169\n",
      "170\n",
      "171\n",
      "172\n",
      "173\n",
      "174\n",
      "175\n",
      "176\n",
      "177\n",
      "178\n",
      "179\n",
      "180\n",
      "181\n",
      "182\n",
      "183\n",
      "184\n",
      "185\n",
      "186\n",
      "187\n",
      "188\n",
      "189\n",
      "190\n",
      "191\n",
      "192\n",
      "193\n",
      "194\n",
      "195\n",
      "196\n",
      "197\n",
      "198\n",
      "199\n",
      "200\n"
     ]
    }
   ],
   "source": [
    "#natural numbers\n",
    "n=int(input())\n",
    "i=1\n",
    "while i<=n:\n",
    "    if n%2==0:\n",
    "        print(i)\n",
    "        i=i+1\n",
    "    else:\n",
    "        i=i+1"
   ]
  },
  {
   "cell_type": "code",
   "execution_count": 96,
   "id": "db5098fd-02ad-4252-b39d-2c48c82e3820",
   "metadata": {},
   "outputs": [
    {
     "name": "stdout",
     "output_type": "stream",
     "text": [
      "0\n",
      "1\n",
      "2\n",
      "3\n",
      "4\n",
      "5\n",
      "6\n",
      "7\n",
      "8\n",
      "9\n"
     ]
    }
   ],
   "source": [
    "for i in range(10):\n",
    "    print(i)"
   ]
  },
  {
   "cell_type": "code",
   "execution_count": 98,
   "id": "b39edeb8-fe8b-4eb1-9ab1-b89496b3ceed",
   "metadata": {},
   "outputs": [
    {
     "name": "stdout",
     "output_type": "stream",
     "text": [
      "10\n",
      "11\n",
      "12\n",
      "13\n",
      "14\n",
      "15\n",
      "16\n",
      "17\n",
      "18\n",
      "19\n"
     ]
    }
   ],
   "source": [
    "for i in range(10,20):\n",
    "    print(i)"
   ]
  },
  {
   "cell_type": "code",
   "execution_count": 100,
   "id": "88b9bca8-7dc0-4273-8b74-30493772dda6",
   "metadata": {},
   "outputs": [
    {
     "name": "stdout",
     "output_type": "stream",
     "text": [
      "0\n",
      "2\n",
      "4\n",
      "6\n",
      "8\n",
      "10\n",
      "12\n",
      "14\n",
      "16\n",
      "18\n",
      "20\n",
      "22\n",
      "24\n",
      "26\n",
      "28\n"
     ]
    }
   ],
   "source": [
    "for i in range(0,30,2):\n",
    "    print(i)"
   ]
  },
  {
   "cell_type": "code",
   "execution_count": 102,
   "id": "10c431c9-cef5-4bd7-9081-e1368c027273",
   "metadata": {},
   "outputs": [
    {
     "name": "stdout",
     "output_type": "stream",
     "text": [
      "-5\n",
      "-4\n",
      "-3\n",
      "-2\n",
      "-1\n",
      "0\n",
      "1\n",
      "2\n",
      "3\n",
      "4\n"
     ]
    }
   ],
   "source": [
    "for i in range(-5,5):\n",
    "    print(i)"
   ]
  },
  {
   "cell_type": "code",
   "execution_count": 104,
   "id": "4404e517-a804-4338-b76e-bb2ff3388412",
   "metadata": {},
   "outputs": [
    {
     "name": "stdout",
     "output_type": "stream",
     "text": [
      "91\n",
      "92\n",
      "93\n",
      "94\n",
      "95\n",
      "96\n",
      "97\n",
      "98\n",
      "99\n",
      "100\n"
     ]
    }
   ],
   "source": [
    "for i in range(91,100+1):\n",
    "    print(i)"
   ]
  },
  {
   "cell_type": "code",
   "execution_count": 114,
   "id": "fff28a3f-7a81-477c-8239-2af718e3a7d6",
   "metadata": {},
   "outputs": [
    {
     "name": "stdin",
     "output_type": "stream",
     "text": [
      "Enter the number:  9\n"
     ]
    },
    {
     "name": "stdout",
     "output_type": "stream",
     "text": [
      "9*1= 9\n",
      "9*2= 18\n",
      "9*3= 27\n",
      "9*4= 36\n",
      "9*5= 45\n",
      "9*6= 54\n",
      "9*7= 63\n",
      "9*8= 72\n",
      "9*9= 81\n",
      "9*10= 90\n"
     ]
    }
   ],
   "source": [
    "n=int(input(\"Enter the number: \"))\n",
    "for i in range(1,10+1):\n",
    "    print(f\"{n}*{i}=\",n*i)"
   ]
  },
  {
   "cell_type": "code",
   "execution_count": 116,
   "id": "7a81181c-6fd5-40cd-b529-453591d91043",
   "metadata": {},
   "outputs": [
    {
     "name": "stdout",
     "output_type": "stream",
     "text": [
      "5 * 1 = 5\n",
      "5 * 2 = 10\n",
      "5 * 3 = 15\n",
      "5 * 4 = 20\n",
      "5 * 5 = 25\n",
      "5 * 6 = 30\n",
      "5 * 7 = 35\n",
      "5 * 8 = 40\n",
      "5 * 9 = 45\n",
      "5 * 10 = 50\n"
     ]
    }
   ],
   "source": [
    "n=5\n",
    "i=1\n",
    "while i<=10:\n",
    "    print(n,\"*\",i,\"=\",i*n)\n",
    "    i=i+1"
   ]
  },
  {
   "cell_type": "code",
   "execution_count": 118,
   "id": "94df364b-f250-4c5a-9dcb-dec378d31b30",
   "metadata": {},
   "outputs": [
    {
     "name": "stdin",
     "output_type": "stream",
     "text": [
      "Enter the value of n:  5\n"
     ]
    },
    {
     "name": "stdout",
     "output_type": "stream",
     "text": [
      "* * * * * \n",
      "* * * * * \n",
      "* * * * * \n",
      "* * * * * \n",
      "* * * * * \n"
     ]
    }
   ],
   "source": [
    "n=int(input(\"Enter the value of n: \"))\n",
    "for i in range(1,n+1):                     #i for rows and j for coloum\n",
    "    j=1\n",
    "    while j<=n:\n",
    "        print('*', end=\" \")\n",
    "        j=j+1\n",
    "    print()\n"
   ]
  },
  {
   "cell_type": "code",
   "execution_count": 120,
   "id": "b1e375bf-4d23-4901-b605-e15992095e25",
   "metadata": {},
   "outputs": [
    {
     "name": "stdin",
     "output_type": "stream",
     "text": [
      "Enter the value of n:  5\n"
     ]
    },
    {
     "name": "stdout",
     "output_type": "stream",
     "text": [
      "* * \n",
      "* * \n",
      "* * \n",
      "* * \n",
      "* * \n"
     ]
    }
   ],
   "source": [
    "n=int(input(\"Enter the value of n: \"))\n",
    "for i in range(1,n+1):                     #i for rows and j for coloum\n",
    "    j=2\n",
    "    while j<=n:\n",
    "        print('*', end=\" \")\n",
    "        j=j+2\n",
    "    print()\n"
   ]
  },
  {
   "cell_type": "code",
   "execution_count": 122,
   "id": "dc40b0af-c63c-44a6-9415-707f6dfbd813",
   "metadata": {},
   "outputs": [
    {
     "name": "stdin",
     "output_type": "stream",
     "text": [
      "Enter the number: 6\n"
     ]
    },
    {
     "name": "stdout",
     "output_type": "stream",
     "text": [
      "* * * * * * \n",
      "* * * * * * \n",
      "* * * * * * \n",
      "* * * * * * \n",
      "* * * * * * \n",
      "* * * * * * \n"
     ]
    }
   ],
   "source": [
    "n=int(input(\"Enter the number:\"))\n",
    "i=1\n",
    "while i<=n:\n",
    "    j=1\n",
    "    while j<=n:\n",
    "        print(\"*\",end=\" \")\n",
    "        \n",
    "        j=j+1\n",
    "    print()\n",
    "    i=i+1"
   ]
  },
  {
   "cell_type": "code",
   "execution_count": 126,
   "id": "a0b506d9-ce3e-494c-9859-3bdb3ca798a9",
   "metadata": {},
   "outputs": [
    {
     "name": "stdin",
     "output_type": "stream",
     "text": [
      "Enter the value of n:  5\n"
     ]
    },
    {
     "name": "stdout",
     "output_type": "stream",
     "text": [
      "* \n",
      "* * \n",
      "* * * \n",
      "* * * * \n",
      "* * * * * \n"
     ]
    }
   ],
   "source": [
    "n=int(input(\"Enter the value of n: \"))\n",
    "for i in range(1,n+1):                  \n",
    "    j=1\n",
    "    while j<=i:\n",
    "        print('*', end=\" \")\n",
    "        j=j+1\n",
    "    print()\n"
   ]
  },
  {
   "cell_type": "code",
   "execution_count": 144,
   "id": "952ac0d0-b16f-43c1-90df-a7d705aad468",
   "metadata": {},
   "outputs": [
    {
     "name": "stdin",
     "output_type": "stream",
     "text": [
      "Enter the value of n:  5\n"
     ]
    },
    {
     "name": "stdout",
     "output_type": "stream",
     "text": [
      "$ * * * * \n",
      "* $ * * * \n",
      "* * $ * * \n",
      "* * * $ * \n",
      "* * * * $ \n"
     ]
    }
   ],
   "source": [
    "n=int(input(\"Enter the value of n: \"))\n",
    "for i in range(1,n+1):   \n",
    "    for j in range(1,n+1):\n",
    "        if i==j:\n",
    "            print('$', end=\" \")\n",
    "        else:\n",
    "            print('*', end=\" \")\n",
    "            j=j+1\n",
    "    print()\n",
    "        \n"
   ]
  },
  {
   "cell_type": "code",
   "execution_count": 7,
   "id": "68e5b199-96f1-47dc-8f34-56007ab60a76",
   "metadata": {},
   "outputs": [
    {
     "name": "stdin",
     "output_type": "stream",
     "text": [
      "Enter the value of n:  5\n"
     ]
    },
    {
     "name": "stdout",
     "output_type": "stream",
     "text": [
      "1 1 1 1 1 \n",
      "2 2 2 2 2 \n",
      "3 3 3 3 3 \n",
      "4 4 4 4 4 \n",
      "5 5 5 5 5 \n"
     ]
    }
   ],
   "source": [
    "n=int(input(\"Enter the value of n: \"))\n",
    "for i in range(1,n+1):                     \n",
    "    j=1\n",
    "    while j<=n:\n",
    "        print( i,  end=\" \")\n",
    "        j=j+1\n",
    "    print()\n"
   ]
  },
  {
   "cell_type": "code",
   "execution_count": 9,
   "id": "040e88f6-707a-43b1-986d-b0bb8c030a28",
   "metadata": {},
   "outputs": [
    {
     "name": "stdin",
     "output_type": "stream",
     "text": [
      "Enter the value of n:  5\n"
     ]
    },
    {
     "name": "stdout",
     "output_type": "stream",
     "text": [
      "1 2 3 4 5 \n",
      "1 2 3 4 5 \n",
      "1 2 3 4 5 \n",
      "1 2 3 4 5 \n",
      "1 2 3 4 5 \n"
     ]
    }
   ],
   "source": [
    "n=int(input(\"Enter the value of n: \"))\n",
    "for i in range(1,n+1):                     \n",
    "    j=1\n",
    "    while j<=n:\n",
    "        print( j, end=\" \")\n",
    "        j=j+1\n",
    "    print()\n"
   ]
  },
  {
   "cell_type": "code",
   "execution_count": 15,
   "id": "fbcefbda-142b-43aa-a0b5-7f324074418a",
   "metadata": {},
   "outputs": [
    {
     "name": "stdin",
     "output_type": "stream",
     "text": [
      "Enter the value of n:  5\n"
     ]
    },
    {
     "name": "stdout",
     "output_type": "stream",
     "text": [
      "$ * * * $ \n",
      "* $ * $ * \n",
      "* * $ * * \n",
      "* $ * $ * \n",
      "$ * * * $ \n"
     ]
    }
   ],
   "source": [
    "n=int(input(\"Enter the value of n: \"))\n",
    "for i in range(1,n+1):   \n",
    "    for j in range(1,n+1):\n",
    "        if i==j or j==n-i+1:\n",
    "            print('$', end=\" \")\n",
    "        else:\n",
    "            print('*', end=\" \")\n",
    "            j=j+1\n",
    "    print()\n",
    "        "
   ]
  },
  {
   "cell_type": "code",
   "execution_count": 17,
   "id": "4d086049-d110-4893-8b69-bfd4e78c50df",
   "metadata": {},
   "outputs": [
    {
     "name": "stdout",
     "output_type": "stream",
     "text": [
      "[1, 2, 3, 4, 5, 6, 7, 8, 9, 10]\n"
     ]
    }
   ],
   "source": [
    "my_list=[1,2,3,4,5,6,7,8,9,10]\n",
    "print(my_list)"
   ]
  },
  {
   "cell_type": "code",
   "execution_count": 19,
   "id": "3607bdfa-43c1-464f-a7c4-2ce9038b84bc",
   "metadata": {},
   "outputs": [
    {
     "name": "stdout",
     "output_type": "stream",
     "text": [
      "3\n"
     ]
    }
   ],
   "source": [
    "my_list=[1,2,3,4,5,6,7,8,9,10]\n",
    "print(my_list[-8])"
   ]
  },
  {
   "cell_type": "code",
   "execution_count": 21,
   "id": "38b51b4a-21b6-48a9-80c6-cdc3affff67a",
   "metadata": {},
   "outputs": [
    {
     "name": "stdout",
     "output_type": "stream",
     "text": [
      "6\n"
     ]
    }
   ],
   "source": [
    "my_list=[1,2,3,4,5,6,7,8,9,10]\n",
    "print(my_list[5])"
   ]
  },
  {
   "cell_type": "code",
   "execution_count": 23,
   "id": "c325cb01-e881-4bfe-91f8-e86e9161d51d",
   "metadata": {},
   "outputs": [
    {
     "name": "stdout",
     "output_type": "stream",
     "text": [
      "[3, 4, 5, 6, 7, 8]\n"
     ]
    }
   ],
   "source": [
    "my_list=[1,2,3,4,5,6,7,8,9,10]\n",
    "print(my_list[2:8])"
   ]
  },
  {
   "cell_type": "code",
   "execution_count": 29,
   "id": "6c2ca70f-3785-4d12-a4a8-b5e9a36f683e",
   "metadata": {},
   "outputs": [
    {
     "name": "stdout",
     "output_type": "stream",
     "text": [
      "[6, 7, 8, 9, 10]\n"
     ]
    }
   ],
   "source": [
    "my_list=[1,2,3,4,5,6,7,8,9,10]\n",
    "print(my_list[5: ])"
   ]
  },
  {
   "cell_type": "code",
   "execution_count": 33,
   "id": "cd59b689-440f-4d78-be5c-e0da60f0f5d4",
   "metadata": {},
   "outputs": [
    {
     "name": "stdout",
     "output_type": "stream",
     "text": [
      "[20, 18]\n"
     ]
    }
   ],
   "source": [
    "list=[20,18,28,19]\n",
    "del list[2:]\n",
    "print(list)"
   ]
  },
  {
   "cell_type": "code",
   "execution_count": 37,
   "id": "4cf8c716-0d57-4ea8-ad09-30d952b955d5",
   "metadata": {},
   "outputs": [
    {
     "name": "stdout",
     "output_type": "stream",
     "text": [
      "[20, 18, 99]\n"
     ]
    }
   ],
   "source": [
    "list.append(99)\n",
    "print(list)"
   ]
  },
  {
   "cell_type": "code",
   "execution_count": 49,
   "id": "815b7c22-44ae-40d1-bf09-95101bd74b60",
   "metadata": {},
   "outputs": [
    {
     "name": "stdin",
     "output_type": "stream",
     "text": [
      "enter the number  3\n"
     ]
    },
    {
     "name": "stdout",
     "output_type": "stream",
     "text": [
      "enter list\n"
     ]
    },
    {
     "name": "stdin",
     "output_type": "stream",
     "text": [
      " 20\n",
      " 30\n",
      " 40\n"
     ]
    },
    {
     "name": "stdout",
     "output_type": "stream",
     "text": [
      "['20', '30', '40']\n"
     ]
    }
   ],
   "source": [
    "n=int(input(\"enter the number \"))\n",
    "a=[]\n",
    "print(\"enter list\")\n",
    "for i in range(n):\n",
    "    b=input(\"\")\n",
    "    a.append(b)\n",
    "print(a)\n",
    "\n"
   ]
  },
  {
   "cell_type": "code",
   "execution_count": 51,
   "id": "c37cc65b-caf1-4b96-aeb9-c2c6edcf072e",
   "metadata": {},
   "outputs": [
    {
     "name": "stdout",
     "output_type": "stream",
     "text": [
      "['20', '30', 35, '40']\n"
     ]
    }
   ],
   "source": [
    "a.insert(2,35)\n",
    "print(a)"
   ]
  },
  {
   "cell_type": "code",
   "execution_count": 57,
   "id": "c0e22104-97ea-4e5f-bbd2-6c92eb04cab0",
   "metadata": {},
   "outputs": [
    {
     "name": "stdout",
     "output_type": "stream",
     "text": [
      "[1, 2, 40]\n"
     ]
    }
   ],
   "source": [
    "a=[1,2,30,40]\n",
    "a.remove(30)\n",
    "print(a)"
   ]
  },
  {
   "cell_type": "code",
   "execution_count": 73,
   "id": "8af1148b-23f7-4700-89b6-bd671f71ffb4",
   "metadata": {},
   "outputs": [
    {
     "name": "stdin",
     "output_type": "stream",
     "text": [
      "Enter the number to be removed:  2\n"
     ]
    },
    {
     "name": "stdout",
     "output_type": "stream",
     "text": [
      "[1, 3]\n"
     ]
    }
   ],
   "source": [
    "a=[1,2,3]\n",
    "x=int(input(\"Enter the number to be removed: \"))\n",
    "if x in my_list:\n",
    "    a.remove(x)\n",
    "    print(a)\n",
    "else:\n",
    "    print(\"Element not in list\")"
   ]
  },
  {
   "cell_type": "code",
   "execution_count": 75,
   "id": "4db4e051-94a1-4e9e-931d-b833f2a2abe8",
   "metadata": {},
   "outputs": [
    {
     "data": {
      "text/plain": [
       "3"
      ]
     },
     "execution_count": 75,
     "metadata": {},
     "output_type": "execute_result"
    }
   ],
   "source": [
    "a.pop()"
   ]
  },
  {
   "cell_type": "code",
   "execution_count": 81,
   "id": "7a799cb4-4613-4358-a89a-4453ed0347dd",
   "metadata": {},
   "outputs": [
    {
     "name": "stdout",
     "output_type": "stream",
     "text": [
      "[1, 3, 6, 2, 4, 5]\n"
     ]
    }
   ],
   "source": [
    "a=[1,3,6]\n",
    "b=[2,4,5]\n",
    "a.extend(b)\n",
    "print(a)"
   ]
  },
  {
   "cell_type": "code",
   "execution_count": 83,
   "id": "5e833a16-9ef2-4d0b-82e4-2d6d15989d36",
   "metadata": {},
   "outputs": [
    {
     "data": {
      "text/plain": [
       "2"
      ]
     },
     "execution_count": 83,
     "metadata": {},
     "output_type": "execute_result"
    }
   ],
   "source": [
    "a.index(6)"
   ]
  },
  {
   "cell_type": "code",
   "execution_count": 87,
   "id": "5c4a3b8d-7c78-4bf0-8322-bc266a745057",
   "metadata": {},
   "outputs": [
    {
     "name": "stdout",
     "output_type": "stream",
     "text": [
      "[0, 1, 2, 3, 4, 5, 8]\n"
     ]
    }
   ],
   "source": [
    "a=[2,8,3,0,4,5,1]\n",
    "a.sort()\n",
    "print(a)"
   ]
  },
  {
   "cell_type": "code",
   "execution_count": 91,
   "id": "ad3de66f-493f-432e-bc3c-d5ee40397c05",
   "metadata": {},
   "outputs": [
    {
     "name": "stdout",
     "output_type": "stream",
     "text": [
      "[8, 5, 4, 3, 2, 1, 0]\n"
     ]
    }
   ],
   "source": [
    "a.sort(reverse=True)\n",
    "print(a)"
   ]
  },
  {
   "cell_type": "code",
   "execution_count": 93,
   "id": "3d6f2853-47ee-42d8-9738-939d65946343",
   "metadata": {},
   "outputs": [
    {
     "name": "stdout",
     "output_type": "stream",
     "text": [
      "[0, 1, 2, 3, 4, 5, 8]\n"
     ]
    }
   ],
   "source": [
    "a.reverse()\n",
    "print(a)"
   ]
  },
  {
   "cell_type": "code",
   "execution_count": 3,
   "id": "413e224c-ffa7-44e4-accd-78a9e0eb9abf",
   "metadata": {},
   "outputs": [
    {
     "name": "stdout",
     "output_type": "stream",
     "text": [
      "Enter list between 30 to 100: \n"
     ]
    },
    {
     "name": "stdin",
     "output_type": "stream",
     "text": [
      " 67\n",
      " 87\n",
      " 76\n",
      " 56\n"
     ]
    },
    {
     "name": "stdout",
     "output_type": "stream",
     "text": [
      "[67, 87, 76, 56]\n",
      "[67, 87, 76, 100, 56]\n"
     ]
    }
   ],
   "source": [
    "scores = []\n",
    "n = 4\n",
    "print(\"Enter list between 30 to 100: \")\n",
    "for i in range(n):\n",
    "    b = int(input(\"\"))\n",
    "    scores.append(b)\n",
    "\n",
    "print(scores)\n",
    "min_num = min(scores)\n",
    "index = scores.index(min_num)\n",
    "scores.insert(index, 100)\n",
    "print(scores)"
   ]
  },
  {
   "cell_type": "code",
   "execution_count": 5,
   "id": "566c7355-a359-46b0-9c1f-3612653548c7",
   "metadata": {},
   "outputs": [
    {
     "ename": "SyntaxError",
     "evalue": "unterminated string literal (detected at line 15) (3286170123.py, line 15)",
     "output_type": "error",
     "traceback": [
      "\u001b[1;36m  Cell \u001b[1;32mIn[5], line 15\u001b[1;36m\u001b[0m\n\u001b[1;33m    print(\"Extended list:\\n\",scores)\"\u001b[0m\n\u001b[1;37m                                    ^\u001b[0m\n\u001b[1;31mSyntaxError\u001b[0m\u001b[1;31m:\u001b[0m unterminated string literal (detected at line 15)\n"
     ]
    }
   ],
   "source": [
    "scores=[]\n",
    "print(\"Enter 5 scores \")\n",
    "for i in range(5):\n",
    "    scores.append(int(input()))\n",
    "print(\"Initial Scores:\\n\",scores)\n",
    "ind=scores.index(min(scores))\n",
    "scores.insert(ind,100)\n",
    "print(\"Scores after inserting bonus:\\n\",scores)\n",
    "scores.remove(max(scores))\n",
    "print(\"Scores after removing bonus:\\n\",scores)\n",
    "popped_score=scores.pop(4)\n",
    "print(\"popped element :\\n\",popped_score)\n",
    "b=[85,75,95,65,55]\n",
    "scores.extend(b)\n",
    "print(\"Extended list:\\n\",scores)\"\n",
    "scores.sort(reverse=True)\n",
    "print(\"Desending order of list: \\n\",scores)\n",
    "count_above_80=scores.count(all)\n",
    "print(\"count of scores above 80: \",scores)\n"
   ]
  },
  {
   "cell_type": "code",
   "execution_count": 11,
   "id": "cc3ea4cb-b0ba-4f8c-be11-6f48e93220d4",
   "metadata": {},
   "outputs": [
    {
     "data": {
      "text/plain": [
       "'t'"
      ]
     },
     "execution_count": 11,
     "metadata": {},
     "output_type": "execute_result"
    }
   ],
   "source": [
    "\n",
    "max(\"str\")"
   ]
  },
  {
   "cell_type": "code",
   "execution_count": 9,
   "id": "4aa724f6-1815-4cb9-9cf7-0ecaa2c830f1",
   "metadata": {},
   "outputs": [
    {
     "data": {
      "text/plain": [
       "'r'"
      ]
     },
     "execution_count": 9,
     "metadata": {},
     "output_type": "execute_result"
    }
   ],
   "source": [
    "min(\"str\")"
   ]
  },
  {
   "cell_type": "code",
   "execution_count": 20,
   "id": "071d989e-f12a-4334-b3f2-82bcc41dbd31",
   "metadata": {},
   "outputs": [
    {
     "name": "stdin",
     "output_type": "stream",
     "text": [
      "enter the input:  swathi\n"
     ]
    },
    {
     "name": "stdout",
     "output_type": "stream",
     "text": [
      "w\n",
      "a\n",
      "6\n",
      "['a', 'h', 'i', 's', 't', 'w']\n"
     ]
    }
   ],
   "source": [
    "n=input(\"enter the input: \")\n",
    "print(max(n))\n",
    "print(min(n))     \n",
    "print(len(n))\n",
    "print(sorted(n))"
   ]
  },
  {
   "cell_type": "code",
   "execution_count": 28,
   "id": "807e72ce-dd68-48fc-bee8-ddd81335fabb",
   "metadata": {},
   "outputs": [
    {
     "name": "stdin",
     "output_type": "stream",
     "text": [
      "enter the input:  swathi\n"
     ]
    },
    {
     "name": "stdout",
     "output_type": "stream",
     "text": [
      "6\n"
     ]
    }
   ],
   "source": [
    "n=input(\"enter the input: \")\n",
    "count=0\n",
    "for i in n:\n",
    "    count+=1\n",
    "print(count)"
   ]
  },
  {
   "cell_type": "code",
   "execution_count": 30,
   "id": "cd195085-618f-4da9-ad4d-4c0bfb0e3615",
   "metadata": {},
   "outputs": [
    {
     "data": {
      "text/plain": [
       "'WELCOME'"
      ]
     },
     "execution_count": 30,
     "metadata": {},
     "output_type": "execute_result"
    }
   ],
   "source": [
    "st=\"Welcome\"\n",
    "st.lower()\n",
    "st.upper()"
   ]
  },
  {
   "cell_type": "code",
   "execution_count": 32,
   "id": "9b0f2b4c-ac27-4991-8f7e-29d56e81155b",
   "metadata": {},
   "outputs": [
    {
     "data": {
      "text/plain": [
       "'welcome'"
      ]
     },
     "execution_count": 32,
     "metadata": {},
     "output_type": "execute_result"
    }
   ],
   "source": [
    "st=\"Welcome\"\n",
    "st.lower()"
   ]
  },
  {
   "cell_type": "code",
   "execution_count": 34,
   "id": "f6a01beb-796e-4c2f-af85-16960b7ce4fe",
   "metadata": {},
   "outputs": [
    {
     "data": {
      "text/plain": [
       "'wELCOME'"
      ]
     },
     "execution_count": 34,
     "metadata": {},
     "output_type": "execute_result"
    }
   ],
   "source": [
    "st.swapcase()"
   ]
  },
  {
   "cell_type": "code",
   "execution_count": 42,
   "id": "702c2d6b-7b6f-4a9e-8423-220f83e2debf",
   "metadata": {},
   "outputs": [
    {
     "data": {
      "text/plain": [
       "'SWATHI'"
      ]
     },
     "execution_count": 42,
     "metadata": {},
     "output_type": "execute_result"
    }
   ],
   "source": [
    "a=\"swathi\"\n",
    "a.upper()"
   ]
  },
  {
   "cell_type": "code",
   "execution_count": 44,
   "id": "227c717a-af91-42e0-ad1d-8c089acb49b8",
   "metadata": {},
   "outputs": [
    {
     "data": {
      "text/plain": [
       "'swathi'"
      ]
     },
     "execution_count": 44,
     "metadata": {},
     "output_type": "execute_result"
    }
   ],
   "source": [
    "a.lower()"
   ]
  },
  {
   "cell_type": "code",
   "execution_count": 46,
   "id": "fdc1c322-c3d7-40ea-b295-3f15accde19c",
   "metadata": {},
   "outputs": [
    {
     "data": {
      "text/plain": [
       "True"
      ]
     },
     "execution_count": 46,
     "metadata": {},
     "output_type": "execute_result"
    }
   ],
   "source": [
    "a.islower()"
   ]
  },
  {
   "cell_type": "code",
   "execution_count": 48,
   "id": "e93a494e-c586-423b-a4b4-f72929e07cc0",
   "metadata": {},
   "outputs": [
    {
     "data": {
      "text/plain": [
       "True"
      ]
     },
     "execution_count": 48,
     "metadata": {},
     "output_type": "execute_result"
    }
   ],
   "source": [
    "a.isalpha()"
   ]
  },
  {
   "cell_type": "code",
   "execution_count": 50,
   "id": "655af77a-b43e-40e7-8a2a-c0e81daac40c",
   "metadata": {},
   "outputs": [
    {
     "data": {
      "text/plain": [
       "False"
      ]
     },
     "execution_count": 50,
     "metadata": {},
     "output_type": "execute_result"
    }
   ],
   "source": [
    "a.isdigit()"
   ]
  },
  {
   "cell_type": "code",
   "execution_count": null,
   "id": "1752092e-8f75-44b8-9a06-6406eebd43e3",
   "metadata": {},
   "outputs": [],
   "source": []
  }
 ],
 "metadata": {
  "kernelspec": {
   "display_name": "Python [conda env:base] *",
   "language": "python",
   "name": "conda-base-py"
  },
  "language_info": {
   "codemirror_mode": {
    "name": "ipython",
    "version": 3
   },
   "file_extension": ".py",
   "mimetype": "text/x-python",
   "name": "python",
   "nbconvert_exporter": "python",
   "pygments_lexer": "ipython3",
   "version": "3.12.7"
  }
 },
 "nbformat": 4,
 "nbformat_minor": 5
}
