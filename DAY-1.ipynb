{
 "cells": [
  {
   "cell_type": "code",
   "execution_count": null,
   "id": "ab0c7f7f-9120-464b-9f5f-76d2a15bf8b7",
   "metadata": {},
   "outputs": [],
   "source": []
  }
 ],
 "metadata": {
  "kernelspec": {
   "display_name": "",
   "name": ""
  },
  "language_info": {
   "name": ""
  }
 },
 "nbformat": 4,
 "nbformat_minor": 5
}
