{
 "cells": [
  {
   "cell_type": "code",
   "execution_count": 3,
   "id": "ab0e8185-f322-4dcd-9e53-23ec0455b7e7",
   "metadata": {},
   "outputs": [
    {
     "name": "stdout",
     "output_type": "stream",
     "text": [
      "80.0\n",
      "80\n"
     ]
    }
   ],
   "source": [
    "#float-->integer\n",
    "a=80.0\n",
    "b=int(a)\n",
    "print(a)\n",
    "print(b)"
   ]
  },
  {
   "cell_type": "code",
   "execution_count": 9,
   "id": "d3d5d93f-5a9f-4cad-8778-d25901813dc8",
   "metadata": {},
   "outputs": [
    {
     "name": "stdout",
     "output_type": "stream",
     "text": [
      "20\n"
     ]
    }
   ],
   "source": [
    "#string-->integer\n",
    "a=\"20\"\n",
    "b=str(a)\n",
    "print(b)"
   ]
  },
  {
   "cell_type": "code",
   "execution_count": 13,
   "id": "c592d577-5a13-44ad-9a94-2c17bf336bf5",
   "metadata": {},
   "outputs": [
    {
     "name": "stdout",
     "output_type": "stream",
     "text": [
      "80.0\n",
      "80.0\n"
     ]
    }
   ],
   "source": [
    "#string-->float\n",
    "a=\"80.0\"\n",
    "b=float(a)\n",
    "print(a)\n",
    "print(b)"
   ]
  },
  {
   "cell_type": "code",
   "execution_count": 11,
   "id": "22ac5b20-e2f3-455b-982d-7ee00743e13a",
   "metadata": {},
   "outputs": [
    {
     "name": "stdout",
     "output_type": "stream",
     "text": [
      "45\n",
      "56.0\n"
     ]
    }
   ],
   "source": [
    "a=45\n",
    "b=56.0\n",
    "c=str(a)\n",
    "d=float(b)\n",
    "print(a)\n",
    "print(b)\n"
   ]
  },
  {
   "cell_type": "code",
   "execution_count": 17,
   "id": "1f81cc8f-5859-425b-8b8f-7e17f33b0f2e",
   "metadata": {},
   "outputs": [
    {
     "name": "stdout",
     "output_type": "stream",
     "text": [
      "9502982745\n"
     ]
    }
   ],
   "source": [
    "a=\"95029\"\n",
    "b=\"82745\"\n",
    "print(a+b)"
   ]
  },
  {
   "cell_type": "code",
   "execution_count": 25,
   "id": "545a00c9-fdb0-4f91-95ab-64bd1c29ad7b",
   "metadata": {},
   "outputs": [
    {
     "name": "stdin",
     "output_type": "stream",
     "text": [
      "enter your amount 1500\n"
     ]
    },
    {
     "name": "stdout",
     "output_type": "stream",
     "text": [
      "500 rupees notes are:  3\n",
      "200 rupees notes are:  0\n",
      "100 rupees notes are:  0\n"
     ]
    }
   ],
   "source": [
    "#ATM\n",
    "#accept withdraw amount and print number of notes\n",
    "#500,200,100\n",
    "\n",
    "amount=int(input(\"enter your amount\")) #1800\n",
    "five=0\n",
    "two=0\n",
    "one=0\n",
    "if amount%100==0:\n",
    "    five=amount//500\n",
    "    print(\"500 rupees notes are: \",five)\n",
    "    amount=amount-(five*500)\n",
    "    two=amount//200\n",
    "    print(\"200 rupees notes are: \",two)\n",
    "    amount=amount-(two*200)\n",
    "    one=amount//100\n",
    "    print(\"100 rupees notes are: \",one)\n",
    "else:\n",
    "    print(\"invalid amount\")\n",
    "    \n",
    "           "
   ]
  },
  {
   "cell_type": "code",
   "execution_count": 37,
   "id": "0b8bc7dc-abef-4c83-856f-d5ff8240ca46",
   "metadata": {},
   "outputs": [
    {
     "name": "stdin",
     "output_type": "stream",
     "text": [
      "enter salary:  27000\n"
     ]
    },
    {
     "name": "stdout",
     "output_type": "stream",
     "text": [
      "70470.0\n"
     ]
    }
   ],
   "source": [
    "salary=int(input(\"enter salary: \"))\n",
    "           \n",
    "if salary<=20000:\n",
    "    Hra=(salary*76)/100\n",
    "    Da=(salary*78)/100\n",
    "    Gs=salary+Da+Hra\n",
    "    print(Gs)\n",
    "if salary>20000 and salary<30000:\n",
    "    Hra=(salary*79)/100\n",
    "    Da=(salary*82)/100\n",
    "    Gs=salary+Da+Hra\n",
    "    print(Gs)\n",
    "if salary>30000:\n",
    "    Hra=(salary*85)/100\n",
    "    Da=(salary*89)/100\n",
    "    Gs=salary+Da+Hra\n",
    "    print(Gs)"
   ]
  },
  {
   "cell_type": "code",
   "execution_count": 41,
   "id": "b5ebe85e-cbd2-4bd3-81c9-2563b6e6a28a",
   "metadata": {},
   "outputs": [
    {
     "name": "stdin",
     "output_type": "stream",
     "text": [
      "enter your amount 1500\n"
     ]
    },
    {
     "name": "stdout",
     "output_type": "stream",
     "text": [
      "500 rupees notes are:  3\n"
     ]
    }
   ],
   "source": [
    "amount=int(input(\"enter your amount\")) #1800\n",
    "five=0\n",
    "two=0\n",
    "one=0\n",
    "if amount%100==0:\n",
    "    if amount>=500:\n",
    "     five=amount//500\n",
    "     print(\"500 rupees notes are: \",five)\n",
    "     amount=amount-(five*500)\n",
    "    if amount>=200:\n",
    "     two=amount//200\n",
    "     print(\"200 rupees notes are: \",two)\n",
    "    if amount>=100:\n",
    "     amount=amount-(two*200)\n",
    "     one=amount//100\n",
    "     print(\"100 rupees notes are: \",one)\n",
    "else:\n",
    "     print(\"invalid amount\")\n",
    "    "
   ]
  },
  {
   "cell_type": "code",
   "execution_count": 52,
   "id": "c66a1f15-110c-4058-8006-3bf8a47db1b9",
   "metadata": {},
   "outputs": [
    {
     "name": "stdin",
     "output_type": "stream",
     "text": [
      "enter salary:  600000000000\n"
     ]
    },
    {
     "name": "stdout",
     "output_type": "stream",
     "text": [
      "the Gs is:  1644000000000.0\n"
     ]
    }
   ],
   "source": [
    "salary=int(input(\"enter salary: \"))           \n",
    "if salary<=20000:\n",
    "    Hra=(salary*76)/100\n",
    "    Da=(salary*78)/100   \n",
    "elif salary>=30000:\n",
    "    Hra=(salary*85)/100\n",
    "    Da=(salary*89)/100\n",
    "else: \n",
    "    Hra=(salary*79)/100\n",
    "    Da=(salary*82)/100\n",
    "Gs=salary+Hra+Da\n",
    "print(\"the Gs is: \",Gs)\n",
    "    "
   ]
  },
  {
   "cell_type": "code",
   "execution_count": 15,
   "id": "1460bcf4-71d3-43b1-9eeb-7cfa47bc804c",
   "metadata": {},
   "outputs": [
    {
     "name": "stdin",
     "output_type": "stream",
     "text": [
      "enter salary:  1200000\n"
     ]
    },
    {
     "name": "stdout",
     "output_type": "stream",
     "text": [
      "155000\n"
     ]
    }
   ],
   "source": [
    "salary=int(input(\"enter salary: \"))\n",
    "slot1=(200000*5)//100\n",
    "slot2=(300000*10)//100\n",
    "slot3=(500000*15)//100\n",
    "slot4=(200000*20)//100\n",
    "\n",
    "if (500000<salary<1000000):\n",
    "    if(500000<salary,7000000):\n",
    "        TDS=((salary-500000)*5)//100\n",
    "    else:\n",
    "        TDS=slot1\n",
    "    if (700000<salary<1000000):\n",
    "        TDS=slot1+((salary-700000)*10)//100\n",
    "    else:\n",
    "        TDS=slot1+slot2\n",
    "\n",
    "elif(1000000<salary<20000000):\n",
    "    if (1000000<salary<1500000):\n",
    "        TDS=slot1+slot2+((salary-1000000)*15)//100\n",
    "    else:\n",
    "        TDS=slot1+slot2+slot3\n",
    "    if (1500000<salary<2000000):\n",
    "        TDS=slot1+slot2+slot3+((salary-1500000)*20)//100\n",
    "    else:\n",
    "        TDS=slot1+slot2+slot3+slot4\n",
    "\n",
    "else:\n",
    "    TDS=slot1+slot2+slot3+slot4+((salary-2000000)*30)//100\n",
    "print(TDS)\n",
    "                               \n"
   ]
  },
  {
   "cell_type": "code",
   "execution_count": null,
   "id": "be9f7ac1-45df-447e-b78b-038d74784c14",
   "metadata": {},
   "outputs": [],
   "source": []
  }
 ],
 "metadata": {
  "kernelspec": {
   "display_name": "Python [conda env:base] *",
   "language": "python",
   "name": "conda-base-py"
  },
  "language_info": {
   "codemirror_mode": {
    "name": "ipython",
    "version": 3
   },
   "file_extension": ".py",
   "mimetype": "text/x-python",
   "name": "python",
   "nbconvert_exporter": "python",
   "pygments_lexer": "ipython3",
   "version": "3.12.7"
  }
 },
 "nbformat": 4,
 "nbformat_minor": 5
}
