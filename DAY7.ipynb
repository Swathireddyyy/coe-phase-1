{
 "cells": [
  {
   "cell_type": "code",
   "execution_count": 1,
   "id": "e4db2e2e-53ac-4500-8d5b-824710739104",
   "metadata": {},
   "outputs": [
    {
     "name": "stdout",
     "output_type": "stream",
     "text": [
      "{1, 2, 3}\n"
     ]
    }
   ],
   "source": [
    "a={1,2,3,1}\n",
    "print(a)"
   ]
  },
  {
   "cell_type": "code",
   "execution_count": 7,
   "id": "f7f8e8bc-2566-4328-a5b1-4d4d61addceb",
   "metadata": {},
   "outputs": [
    {
     "name": "stdout",
     "output_type": "stream",
     "text": [
      "{1, 2, 3, 4}\n"
     ]
    }
   ],
   "source": [
    "s=set([3,4,1,2,])\n",
    "print(s)"
   ]
  },
  {
   "cell_type": "code",
   "execution_count": 5,
   "id": "e180b2cb-3fb7-4412-bc94-f94a914e162c",
   "metadata": {},
   "outputs": [
    {
     "name": "stdout",
     "output_type": "stream",
     "text": [
      "{1, 2, 3, 4, 5, 6, 7, 8}\n"
     ]
    }
   ],
   "source": [
    "A={1,2,3,4,5}\n",
    "B={4,5,6,7,8}                      #union\n",
    "print(A|B)"
   ]
  },
  {
   "cell_type": "code",
   "execution_count": 11,
   "id": "ed1a5c37-9350-4247-b706-986969dc081e",
   "metadata": {},
   "outputs": [
    {
     "data": {
      "text/plain": [
       "{1, 2, 3, 4, 5, 6, 7, 8}"
      ]
     },
     "execution_count": 11,
     "metadata": {},
     "output_type": "execute_result"
    }
   ],
   "source": [
    "a={1,2,3,4,5}\n",
    "b={4,5,6,7,8}\n",
    "a.union(b)\n",
    "b.union(a)\n"
   ]
  },
  {
   "cell_type": "code",
   "execution_count": 13,
   "id": "80141f8e-3a8d-4413-888d-bdf80a8ef7ac",
   "metadata": {},
   "outputs": [
    {
     "name": "stdout",
     "output_type": "stream",
     "text": [
      "{4, 5}\n"
     ]
    }
   ],
   "source": [
    "A={1,2,3,4,5}\n",
    "B={4,5,6,7,8}                 #intersection\n",
    "print(A&B)"
   ]
  },
  {
   "cell_type": "code",
   "execution_count": 17,
   "id": "753b7947-1e69-4d15-8121-32e1c822ffdf",
   "metadata": {},
   "outputs": [
    {
     "name": "stdout",
     "output_type": "stream",
     "text": [
      "{1, 2, 3}\n",
      "{8, 6, 7}\n"
     ]
    }
   ],
   "source": [
    "A={1,2,3,4,5}\n",
    "B={4,5,6,7,8}\n",
    "print(A-B)\n",
    "print(B-A)"
   ]
  },
  {
   "cell_type": "code",
   "execution_count": 19,
   "id": "704a1c8e-5efb-408a-a8fb-9a4f76e5c449",
   "metadata": {},
   "outputs": [
    {
     "name": "stdout",
     "output_type": "stream",
     "text": [
      "{1, 2, 3, 6, 7, 8}\n"
     ]
    }
   ],
   "source": [
    "A={1,2,3,4,5}\n",
    "B={4,5,6,7,8}                 #symmetric\n",
    "print(A^B)"
   ]
  },
  {
   "cell_type": "code",
   "execution_count": 21,
   "id": "36885abb-aef9-473c-8367-e1cb069eb6d7",
   "metadata": {},
   "outputs": [
    {
     "name": "stdout",
     "output_type": "stream",
     "text": [
      "{'swathi', 'vishal', 'koushik', 'cherry', 'chandu', 'saipriya', 'bharath'}\n",
      "{'vishal'}\n",
      "{'saipriya', 'swathi', 'cherry'}\n",
      "{'swathi', 'koushik', 'chandu', 'cherry', 'saipriya', 'bharath'}\n"
     ]
    }
   ],
   "source": [
    "csm_students={\"swathi\",\"cherry\",\"vishal\",\"saipriya\"}\n",
    "it_students={\"vishal\",\"chandu\",\"koushik\",\"bharath\"}\n",
    "print(csm_students|it_students)     #all students who enrolled atleast one of program\n",
    "print(csm_students&it_students)     #who enrolled in both programs\n",
    "print(csm_students-it_students)     #who enrolled only in csm not in it\n",
    "print(csm_students^it_students)     #unique to one program"
   ]
  },
  {
   "cell_type": "code",
   "execution_count": 29,
   "id": "aa9b79ed-616e-4117-8ebc-6e802e5cb4c2",
   "metadata": {},
   "outputs": [
    {
     "name": "stdout",
     "output_type": "stream",
     "text": [
      "{'swathi', 'vishal', 'varshini', 'cherry', 'saipriya'}\n"
     ]
    }
   ],
   "source": [
    "csm_students={\"swathi\",\"cherry\",\"vishal\",\"saipriya\"}\n",
    "csm_students.add(\"varshini\")\n",
    "print(csm_students)"
   ]
  },
  {
   "cell_type": "code",
   "execution_count": 31,
   "id": "28615d88-c233-48d9-a417-191d848161b4",
   "metadata": {},
   "outputs": [
    {
     "name": "stdout",
     "output_type": "stream",
     "text": [
      "{1, 99, 4, 5, 23}\n"
     ]
    }
   ],
   "source": [
    "a={1,23,4,5}\n",
    "a.add(99)\n",
    "print(a)"
   ]
  },
  {
   "cell_type": "code",
   "execution_count": 35,
   "id": "8125c167-589d-49d4-bad4-146e01dfb67f",
   "metadata": {},
   "outputs": [
    {
     "data": {
      "text/plain": [
       "{2, 3, 5, 10}"
      ]
     },
     "execution_count": 35,
     "metadata": {},
     "output_type": "execute_result"
    }
   ],
   "source": [
    "a={2,3,5}\n",
    "a.add(10)\n",
    "a"
   ]
  },
  {
   "cell_type": "code",
   "execution_count": 37,
   "id": "a5e25162-ac3f-4081-8a42-4f8f2e662c5a",
   "metadata": {},
   "outputs": [
    {
     "data": {
      "text/plain": [
       "{'cherry', 'saipriya', 'swathi', 'varshini', 'vishal'}"
      ]
     },
     "execution_count": 37,
     "metadata": {},
     "output_type": "execute_result"
    }
   ],
   "source": [
    "csm_students={\"swathi\",\"cherry\",\"vishal\",\"saipriya\"}\n",
    "csm_students.add(\"varshini\")\n",
    "csm_students"
   ]
  },
  {
   "cell_type": "code",
   "execution_count": 43,
   "id": "e9856d15-20a7-4ae8-8637-861840b2faf8",
   "metadata": {},
   "outputs": [
    {
     "name": "stdout",
     "output_type": "stream",
     "text": [
      "swathi\n"
     ]
    }
   ],
   "source": [
    "dict={'name':'swathi','rollno':68,'college':'ace'}\n",
    "print(dict['name'])"
   ]
  },
  {
   "cell_type": "code",
   "execution_count": 47,
   "id": "34db90a2-a472-415d-b0b7-db024beedf51",
   "metadata": {},
   "outputs": [
    {
     "name": "stdout",
     "output_type": "stream",
     "text": [
      "swathi\n",
      "68\n",
      "ace\n"
     ]
    }
   ],
   "source": [
    "dict={'name':'swathi','rollno':68,'college':'ace'}\n",
    "print(dict['name'])\n",
    "print(dict['rollno'])\n",
    "print(dict['college'])"
   ]
  },
  {
   "cell_type": "code",
   "execution_count": 51,
   "id": "086bc253-b864-4ca0-956a-8471056b2d45",
   "metadata": {},
   "outputs": [
    {
     "name": "stdout",
     "output_type": "stream",
     "text": [
      "chandhana\n"
     ]
    }
   ],
   "source": [
    "dict={'name':'swathi','rollno':68,'college':'ace'}\n",
    "dict['name']='chandhana'\n",
    "print(dict['name'])"
   ]
  },
  {
   "cell_type": "code",
   "execution_count": 55,
   "id": "a4624c59-f2d9-47d6-98c4-78e83d064649",
   "metadata": {},
   "outputs": [
    {
     "name": "stdout",
     "output_type": "stream",
     "text": [
      "122\n"
     ]
    }
   ],
   "source": [
    "dict['rollno']=122\n",
    "print(dict['rollno'])"
   ]
  },
  {
   "cell_type": "code",
   "execution_count": 57,
   "id": "54298806-9892-4014-9afd-63413f2c1e92",
   "metadata": {},
   "outputs": [
    {
     "data": {
      "text/plain": [
       "dict_items([('name', 'chandhana'), ('rollno', 122), ('college', 'ace')])"
      ]
     },
     "execution_count": 57,
     "metadata": {},
     "output_type": "execute_result"
    }
   ],
   "source": [
    "dict.items()"
   ]
  },
  {
   "cell_type": "code",
   "execution_count": 101,
   "id": "4339557d-9d5f-4985-9122-b63672db9f8c",
   "metadata": {},
   "outputs": [
    {
     "name": "stdout",
     "output_type": "stream",
     "text": [
      "{'swathi': 100, 'chandu': 98, 'koushik': 78, 'bharath': 71}\n",
      "{'swathi': 100, 'chandu': 98, 'koushik': 78, 'bharath': 71, 'cherry': 99}\n",
      "{'swathi': 100, 'chandu': 98, 'koushik': 88, 'bharath': 71, 'cherry': 99}\n",
      "{'swathi': 100, 'chandu': 98, 'koushik': 88, 'cherry': 99}\n",
      "Topper: swathi\n",
      "Marks: 100\n",
      "96.25\n"
     ]
    },
    {
     "data": {
      "text/plain": [
       "96"
      ]
     },
     "execution_count": 101,
     "metadata": {},
     "output_type": "execute_result"
    }
   ],
   "source": [
    "students_marks={'swathi':100,'chandu':98,'koushik':78,'bharath':71}\n",
    "print(students_marks)\n",
    "students_marks['cherry']=99\n",
    "print(students_marks)\n",
    "students_marks['koushik']=88\n",
    "print(students_marks)\n",
    "del students_marks['bharath']\n",
    "print(students_marks)\n",
    "topper=max(students_marks, key=students_marks.get)\n",
    "marks=students_marks[topper]\n",
    "print(\"Topper:\", topper)\n",
    "print(\"Marks:\", marks)\n",
    "avg=sum(students_marks.values())/len(students_marks)\n",
    "print(avg)\n",
    "round(avg)"
   ]
  },
  {
   "cell_type": "code",
   "execution_count": 107,
   "id": "02d2e176-365b-4d73-b74c-54e044a1845e",
   "metadata": {},
   "outputs": [
    {
     "name": "stdout",
     "output_type": "stream",
     "text": [
      "The addition value is  30\n"
     ]
    }
   ],
   "source": [
    "def add():\n",
    "    a=10;                   #with no arug and no returns\n",
    "    b=20;\n",
    "    c=a+b;\n",
    "    print(\"The addition value is \",c)\n",
    "add()"
   ]
  },
  {
   "cell_type": "code",
   "execution_count": 109,
   "id": "28071f30-8b11-4c0b-be34-092ec130be7a",
   "metadata": {},
   "outputs": [
    {
     "name": "stdout",
     "output_type": "stream",
     "text": [
      "The addition value is  50\n"
     ]
    }
   ],
   "source": [
    "def add(a,b):\n",
    "    c=a+b;                         #with arug \n",
    "    print(\"The addition value is \",c)\n",
    "add(10,40)"
   ]
  },
  {
   "cell_type": "code",
   "execution_count": null,
   "id": "a5905850-5dee-4d11-bbf0-58e1024e96aa",
   "metadata": {},
   "outputs": [],
   "source": [
    "function will accepts the data, it returns the data"
   ]
  },
  {
   "cell_type": "code",
   "execution_count": 119,
   "id": "df968a96-4900-4487-99d4-11acabb5f050",
   "metadata": {},
   "outputs": [
    {
     "name": "stdout",
     "output_type": "stream",
     "text": [
      "fact is 120\n"
     ]
    }
   ],
   "source": [
    "def fact(n):\n",
    "    fact=1;\n",
    "    i=1;\n",
    "    for i in range(1,n+1):\n",
    "        fact=fact*i\n",
    "    print(\"fact is\",fact)\n",
    "fact(5)"
   ]
  },
  {
   "cell_type": "code",
   "execution_count": 121,
   "id": "de0f0b04-8fba-4f91-93e9-3c60d32ad16a",
   "metadata": {},
   "outputs": [
    {
     "name": "stdin",
     "output_type": "stream",
     "text": [
      "Enter the value:  2\n",
      "Enter the value:  3\n"
     ]
    },
    {
     "name": "stdout",
     "output_type": "stream",
     "text": [
      "Area of the rectangle 6\n"
     ]
    }
   ],
   "source": [
    "def area():\n",
    "    l=int(input(\"Enter the value: \"))\n",
    "    b=int(input(\"Enter the value: \"))\n",
    "    rec=l*b;\n",
    "    print(\"Area of the rectangle\",rec)\n",
    "rectangle=area()\n",
    "\n"
   ]
  },
  {
   "cell_type": "code",
   "execution_count": 123,
   "id": "b5145e7f-4f2c-4885-9897-91457632ada1",
   "metadata": {},
   "outputs": [
    {
     "name": "stdout",
     "output_type": "stream",
     "text": [
      "30\n"
     ]
    }
   ],
   "source": [
    "def add(a,b):\n",
    "    c=a+b;                   #with arug and return type\n",
    "    return c;\n",
    "result=add(10,20);\n",
    "print(result);"
   ]
  },
  {
   "cell_type": "code",
   "execution_count": 125,
   "id": "da78d4ca-66f4-42d5-b1e5-fb1de6e64e97",
   "metadata": {},
   "outputs": [
    {
     "data": {
      "text/plain": [
       "30"
      ]
     },
     "execution_count": 125,
     "metadata": {},
     "output_type": "execute_result"
    }
   ],
   "source": [
    "def add():\n",
    "    a=10;                   #with no arug and returns\n",
    "    b=20;\n",
    "    c=a+b;\n",
    "    return c;\n",
    "add()"
   ]
  },
  {
   "cell_type": "code",
   "execution_count": 139,
   "id": "a60e453f-075d-4ec2-b5cf-d830c53dfeef",
   "metadata": {},
   "outputs": [
    {
     "name": "stdin",
     "output_type": "stream",
     "text": [
      "Enter the number 4\n"
     ]
    },
    {
     "name": "stdout",
     "output_type": "stream",
     "text": [
      "The factorial is 24\n"
     ]
    }
   ],
   "source": [
    "def fact():\n",
    "    n=int(input(\"Enter the number\"))\n",
    "    fact=1;\n",
    "    i=1;\n",
    "    for i in range(1,n+1):\n",
    "        fact=fact*i\n",
    "    return fact\n",
    "fact1=fact();\n",
    "print(\"The factorial is\",fact1)"
   ]
  },
  {
   "cell_type": "code",
   "execution_count": null,
   "id": "961b3f3a-3993-4c67-8092-47afbd5f5374",
   "metadata": {},
   "outputs": [],
   "source": [
    "class emp:\n",
    "    def empData(self):\n",
    "        self.eno=111\n",
    "        self.ename=\"aaa\"\n",
    "        self.esal=10000\n",
    "        print(\"emp number ;\",self.eno)\n",
    "        print(\"emp name ;\",self.ename)\n",
    "        print(\"emp salary ;\",self.esal)\n",
    "e=emp()\n",
    "e.empData()"
   ]
  },
  {
   "cell_type": "code",
   "execution_count": 1,
   "id": "c95f0441-62cb-4ebc-8666-4c158e980644",
   "metadata": {},
   "outputs": [],
   "source": [
    "import numpy as np"
   ]
  },
  {
   "cell_type": "code",
   "execution_count": 3,
   "id": "0cd62781-df7f-475e-9eaf-c76768e44a42",
   "metadata": {},
   "outputs": [
    {
     "name": "stdout",
     "output_type": "stream",
     "text": [
      "Requirement already satisfied: numpy in c:\\users\\lenovo\\anaconda3\\lib\\site-packages (1.26.4)\n",
      "Note: you may need to restart the kernel to use updated packages.\n"
     ]
    }
   ],
   "source": [
    "pip install numpy\n"
   ]
  },
  {
   "cell_type": "code",
   "execution_count": 1,
   "id": "b9a585e0-23bd-4c8f-b296-41a581d1b4bb",
   "metadata": {},
   "outputs": [
    {
     "name": "stdout",
     "output_type": "stream",
     "text": [
      "Requirement already satisfied: numpy in c:\\users\\lenovo\\anaconda3\\lib\\site-packages (1.26.4)\n",
      "Note: you may need to restart the kernel to use updated packages.\n"
     ]
    }
   ],
   "source": [
    "pip install numpy"
   ]
  },
  {
   "cell_type": "code",
   "execution_count": 3,
   "id": "9d0e62bb-798e-4ef9-8077-3904358fce9d",
   "metadata": {},
   "outputs": [
    {
     "name": "stdout",
     "output_type": "stream",
     "text": [
      "[1 2 3 4 5]\n"
     ]
    }
   ],
   "source": [
    "import numpy as np\n",
    "arr_id=np.array([1,2,3,4,5])\n",
    "print(arr_id)"
   ]
  },
  {
   "cell_type": "code",
   "execution_count": 7,
   "id": "32946ec1-8fe2-4768-aa19-855bbed01daa",
   "metadata": {},
   "outputs": [
    {
     "name": "stdout",
     "output_type": "stream",
     "text": [
      "[[ 1  2  3  4]\n",
      " [ 7  8  9 10]]\n"
     ]
    }
   ],
   "source": [
    "import numpy as np\n",
    "arr_2d=np.array([[1,2,3,4],[7,8,9,10]])\n",
    "print(arr_2d)"
   ]
  },
  {
   "cell_type": "code",
   "execution_count": 9,
   "id": "52514e7a-8534-40b9-8338-5ced40a25e52",
   "metadata": {},
   "outputs": [
    {
     "name": "stdout",
     "output_type": "stream",
     "text": [
      "[[0. 0. 0.]\n",
      " [0. 0. 0.]\n",
      " [0. 0. 0.]]\n"
     ]
    }
   ],
   "source": [
    "import numpy as np\n",
    "zeros=np.zeros((3,3))\n",
    "print(zeros)"
   ]
  },
  {
   "cell_type": "code",
   "execution_count": 11,
   "id": "68d8faec-4acf-49f7-a360-d25ac2cf6adb",
   "metadata": {},
   "outputs": [
    {
     "name": "stdout",
     "output_type": "stream",
     "text": [
      "[[1. 1. 1.]\n",
      " [1. 1. 1.]]\n"
     ]
    }
   ],
   "source": [
    "import numpy as np\n",
    "ones=np.ones((2,3))\n",
    "print(ones)"
   ]
  },
  {
   "cell_type": "code",
   "execution_count": 15,
   "id": "78ee3f52-9d02-47a5-a57a-2cc87da67df2",
   "metadata": {},
   "outputs": [
    {
     "name": "stdout",
     "output_type": "stream",
     "text": [
      "[[0.44730059 0.42587439]\n",
      " [0.71726435 0.75869752]]\n"
     ]
    }
   ],
   "source": [
    "import numpy as np\n",
    "random=np.random.random((2,2))\n",
    "print(random)"
   ]
  },
  {
   "cell_type": "code",
   "execution_count": 19,
   "id": "c9a92b57-5a84-4e32-9787-68f66fb9e23c",
   "metadata": {},
   "outputs": [
    {
     "name": "stdout",
     "output_type": "stream",
     "text": [
      "[[1. 0. 0.]\n",
      " [0. 1. 0.]\n",
      " [0. 0. 1.]]\n"
     ]
    }
   ],
   "source": [
    "import numpy as np\n",
    "identity=np.eye(3)\n",
    "print(identity)"
   ]
  },
  {
   "cell_type": "code",
   "execution_count": 21,
   "id": "aba19823-d023-4469-8f54-20e4e8977308",
   "metadata": {},
   "outputs": [
    {
     "name": "stdout",
     "output_type": "stream",
     "text": [
      "[0 2 4 6 8]\n"
     ]
    }
   ],
   "source": [
    "import numpy as np\n",
    "range_arr=np.arange(0,10,2)    #start stop end\n",
    "print(range_arr)"
   ]
  },
  {
   "cell_type": "code",
   "execution_count": 25,
   "id": "3d9a033b-947f-408b-aa15-03c73cba4a5d",
   "metadata": {},
   "outputs": [
    {
     "name": "stdout",
     "output_type": "stream",
     "text": [
      "Shape: (2, 3)\n",
      "Size: 6\n",
      "DataType: int32\n",
      "Number of dimensions: 2\n"
     ]
    }
   ],
   "source": [
    "import numpy as np\n",
    "arr=np.array([[1,2,3],[4,5,6]])\n",
    "print(\"Shape:\",arr.shape)\n",
    "print(\"Size:\",arr.size)\n",
    "print(\"DataType:\",arr.dtype)\n",
    "print(\"Number of dimensions:\",arr.ndim)"
   ]
  },
  {
   "cell_type": "code",
   "execution_count": 43,
   "id": "06a7a778-2063-40dc-98fd-6fa1c895a58f",
   "metadata": {},
   "outputs": [
    {
     "name": "stdout",
     "output_type": "stream",
     "text": [
      "[3, 5, 7]\n"
     ]
    }
   ],
   "source": [
    "list1=[1,2,3]\n",
    "list2=[2,3,4]\n",
    "list=list1+list2\n",
    "result=[a+b for a,b in zip(list1,list2)]\n",
    "print(result)"
   ]
  },
  {
   "cell_type": "code",
   "execution_count": 45,
   "id": "920aaf42-faed-4ccf-94bb-10236f38478a",
   "metadata": {},
   "outputs": [
    {
     "name": "stdout",
     "output_type": "stream",
     "text": [
      "[10 10 10]\n",
      "[ 9 25  0]\n",
      "[ 2 10 20]\n"
     ]
    }
   ],
   "source": [
    "a=np.array([1,5,10])\n",
    "b=np.array([9,5,0])\n",
    "print(a+b)      #element wise adding\n",
    "print(a*b)     #element wise multiplication\n",
    "print(a*2)    #scalar operation"
   ]
  },
  {
   "cell_type": "code",
   "execution_count": 47,
   "id": "aea43b69-e270-4554-8105-e4c53083603f",
   "metadata": {},
   "outputs": [
    {
     "name": "stdout",
     "output_type": "stream",
     "text": [
      "[[19 22]\n",
      " [43 50]]\n"
     ]
    }
   ],
   "source": [
    "mat1=np.array([[1,2],[3,4]])\n",
    "mat2=np.array([[5,6],[7,8]])              #to add 2 matrix\n",
    "result=np.dot(mat1,mat2)\n",
    "print(result)"
   ]
  },
  {
   "cell_type": "code",
   "execution_count": 49,
   "id": "03b46460-b855-418e-a191-d9c10e81abf3",
   "metadata": {},
   "outputs": [
    {
     "name": "stdout",
     "output_type": "stream",
     "text": [
      "[10 11  4]\n"
     ]
    }
   ],
   "source": [
    "a=np.array([8,9,2])\n",
    "b=2                                         #broadcasting\n",
    "print(a+b)"
   ]
  },
  {
   "cell_type": "code",
   "execution_count": 53,
   "id": "1e3b2a38-f39b-438f-83f4-730d2bd246f1",
   "metadata": {},
   "outputs": [
    {
     "name": "stdout",
     "output_type": "stream",
     "text": [
      "[ 2.71828183  7.3890561  20.08553692]\n",
      "[1.         1.41421356 1.73205081]\n",
      "[0.         0.69314718 1.09861229]\n"
     ]
    }
   ],
   "source": [
    "arr=np.array([1,2,3])\n",
    "print(np.exp(arr))                  #exponentiation\n",
    "print(np.sqrt(arr))                 #square root\n",
    "print(np.log(arr))                  #logarithm"
   ]
  },
  {
   "cell_type": "code",
   "execution_count": 57,
   "id": "1f5f31df-0e18-4648-a5a8-c7078e934798",
   "metadata": {},
   "outputs": [
    {
     "name": "stdout",
     "output_type": "stream",
     "text": [
      "Sum: 10\n",
      "Mean: 2.5\n",
      "Standard Deviation: 1.118033988749895\n",
      "Max: 4\n",
      "Min: 1\n"
     ]
    }
   ],
   "source": [
    "arr=np.array([1,2,3,4])\n",
    "print(\"Sum:\",np.sum(arr))\n",
    "print(\"Mean:\",np.mean(arr))\n",
    "print(\"Standard Deviation:\",np.std(arr))\n",
    "print(\"Max:\",np.max(arr))\n",
    "print(\"Min:\",np.min(arr))"
   ]
  },
  {
   "cell_type": "code",
   "execution_count": 63,
   "id": "e8077c5c-1325-418a-8c6e-31ab70ef86aa",
   "metadata": {},
   "outputs": [
    {
     "name": "stdout",
     "output_type": "stream",
     "text": [
      "[[1 2 3]\n",
      " [4 5 6]]\n"
     ]
    }
   ],
   "source": [
    "arr=np.array([1,2,3,4,5,6])\n",
    "reshape=arr.reshape(2,3)\n",
    "print(reshape)"
   ]
  },
  {
   "cell_type": "code",
   "execution_count": 67,
   "id": "623d5a77-3fc1-4a93-9ba4-181af60c0825",
   "metadata": {},
   "outputs": [
    {
     "name": "stdout",
     "output_type": "stream",
     "text": [
      "[[1 2]\n",
      " [3 4]\n",
      " [5 6]]\n"
     ]
    }
   ],
   "source": [
    "arr=np.array([1,2,3,4,5,6])\n",
    "reshape=arr.reshape(3,2)\n",
    "print(reshape)"
   ]
  },
  {
   "cell_type": "code",
   "execution_count": 69,
   "id": "d4a5090b-6eaa-45b2-a581-b1848e5a41f8",
   "metadata": {},
   "outputs": [
    {
     "name": "stdout",
     "output_type": "stream",
     "text": [
      "[[1 2]\n",
      " [4 5]]\n",
      "[1 2 4 5]\n"
     ]
    }
   ],
   "source": [
    "a=np.array([1,2])\n",
    "b=np.array([4,5])                                 #stacking\n",
    "print(np.vstack((a,b)))\n",
    "print(np.hstack((a,b)))\n"
   ]
  },
  {
   "cell_type": "code",
   "execution_count": 71,
   "id": "5c5517ca-3bba-4b9c-8946-7e084decd1d6",
   "metadata": {},
   "outputs": [
    {
     "name": "stdout",
     "output_type": "stream",
     "text": [
      "[array([1, 2]), array([3, 4]), array([5, 6])]\n"
     ]
    }
   ],
   "source": [
    "arr=np.array([1,2,3,4,5,6])\n",
    "print(np.array_split(arr,3))"
   ]
  },
  {
   "cell_type": "code",
   "execution_count": 73,
   "id": "33d19fa8-8c46-4ada-90a9-9f2e32ce4ca9",
   "metadata": {},
   "outputs": [
    {
     "name": "stdout",
     "output_type": "stream",
     "text": [
      "[10  2  3]\n",
      "[10  2  3]\n"
     ]
    }
   ],
   "source": [
    "arr=np.array([1,2,3])\n",
    "view=arr.view()\n",
    "view[0]=10                   #views shares memory\n",
    "print(arr)       \n",
    "\n",
    "copy=arr.copy()\n",
    "copy[0]=10                   #shares memory\n",
    "print(arr)"
   ]
  },
  {
   "cell_type": "code",
   "execution_count": null,
   "id": "f1ebc845-d108-4c9c-a4fd-d83ca451f953",
   "metadata": {},
   "outputs": [],
   "source": [
    "arr=np.array([1,2,3,])\n",
    "np.save('array.npy',arr)"
   ]
  },
  {
   "cell_type": "code",
   "execution_count": null,
   "id": "20965bfd-6938-48d0-8401-be58d4918e65",
   "metadata": {},
   "outputs": [],
   "source": []
  },
  {
   "cell_type": "code",
   "execution_count": 97,
   "id": "1b486a05-2e7a-41ff-a8c8-9459ba7079a5",
   "metadata": {},
   "outputs": [
    {
     "name": "stdout",
     "output_type": "stream",
     "text": [
      "[[0.8371481  0.54563605 0.91968097]\n",
      " [0.72199937 0.65589241 0.74450662]\n",
      " [0.16527414 0.23278719 0.10629835]]\n"
     ]
    }
   ],
   "source": [
    "arr=np.array([10,20,30,40,50])\n",
    "arr=np.random.random((3,3)) #between 0 and 1\n",
    "print(arr)"
   ]
  },
  {
   "cell_type": "code",
   "execution_count": 99,
   "id": "9fc5ed02-2c98-42aa-994f-fee080c14472",
   "metadata": {},
   "outputs": [
    {
     "name": "stdout",
     "output_type": "stream",
     "text": [
      "[15 25 35 45 55]\n"
     ]
    }
   ],
   "source": [
    "arr=np.array([10,20,30,40,50])\n",
    "print(arr+5)"
   ]
  },
  {
   "cell_type": "code",
   "execution_count": 101,
   "id": "6c954028-19be-4b4e-863e-1fbe889f442d",
   "metadata": {},
   "outputs": [
    {
     "name": "stdout",
     "output_type": "stream",
     "text": [
      "[[ 10  20  30  40]\n",
      " [ 70  80  90 100]]\n"
     ]
    }
   ],
   "source": [
    "arr_2d=np.array([[10,20,30,40],[70,80,90,100]])\n",
    "print(arr_2d)"
   ]
  },
  {
   "cell_type": "code",
   "execution_count": 127,
   "id": "dd8e6c34-35e2-4f5d-81c5-2dec0ab97191",
   "metadata": {},
   "outputs": [
    {
     "name": "stdout",
     "output_type": "stream",
     "text": [
      "[[ 1  2  3  4  5]\n",
      " [ 6  7  8  9 10]\n",
      " [11 12 13 14 15]\n",
      " [16 17 18 19 20]\n",
      " [21 22 23 24 25]]\n",
      "The first row [1 2 3 4 5]\n",
      "The last coloum is [21 22 23 24 25]\n",
      "The subarray is [[ 1  2  3  4  5]\n",
      " [ 6  7  8  9 10]\n",
      " [11 12 13 14 15]]\n"
     ]
    }
   ],
   "source": [
    "import numpy as np\n",
    "matrix = np.arange(1, 26).reshape(5, 5)\n",
    "print(matrix)\n",
    "first_row=matrix[0]\n",
    "print(\"The first row\",first_row)\n",
    "last_coloum=matrix[-1]\n",
    "print(\"The last coloum is\",last_coloum)\n",
    "subarray=matrix[0:3]\n",
    "print(\"The subarray is\",subarray)\n"
   ]
  },
  {
   "cell_type": "code",
   "execution_count": null,
   "id": "5eb645f1-eae8-4c56-9fe3-858e6616dd4a",
   "metadata": {},
   "outputs": [],
   "source": []
  }
 ],
 "metadata": {
  "kernelspec": {
   "display_name": "Python [conda env:base] *",
   "language": "python",
   "name": "conda-base-py"
  },
  "language_info": {
   "codemirror_mode": {
    "name": "ipython",
    "version": 3
   },
   "file_extension": ".py",
   "mimetype": "text/x-python",
   "name": "python",
   "nbconvert_exporter": "python",
   "pygments_lexer": "ipython3",
   "version": "3.12.7"
  }
 },
 "nbformat": 4,
 "nbformat_minor": 5
}
