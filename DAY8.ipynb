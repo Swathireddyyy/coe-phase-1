{
 "cells": [
  {
   "cell_type": "code",
   "execution_count": 3,
   "id": "eb548aac-b79a-405b-9f7d-c718f449ded4",
   "metadata": {},
   "outputs": [
    {
     "data": {
      "text/plain": [
       "1st    68\n",
       "2nd    78\n",
       "3rd    88\n",
       "4th    98\n",
       "dtype: int64"
      ]
     },
     "execution_count": 3,
     "metadata": {},
     "output_type": "execute_result"
    }
   ],
   "source": [
    "import numpy as np\n",
    "import pandas as pd\n",
    "a_list=[68,78,88,98]\n",
    "ser=pd.Series(a_list,index=['1st','2nd','3rd','4th'])\n",
    "ser"
   ]
  },
  {
   "cell_type": "code",
   "execution_count": 5,
   "id": "90cfdd38-9cdb-4dc5-9bab-a027d89ba4ce",
   "metadata": {},
   "outputs": [
    {
     "data": {
      "text/plain": [
       "1st    1\n",
       "2nd    3\n",
       "3rd    5\n",
       "4th    7\n",
       "dtype: int64"
      ]
     },
     "execution_count": 5,
     "metadata": {},
     "output_type": "execute_result"
    }
   ],
   "source": [
    "import numpy as np\n",
    "import pandas as pd\n",
    "a_dict={'1st': 1,'2nd':3,'3rd':5,'4th':7}\n",
    "ser=pd.Series(a_dict)\n",
    "ser"
   ]
  },
  {
   "cell_type": "code",
   "execution_count": 9,
   "id": "dc4e1b0c-4991-4cfa-bcd8-fd2eb5336727",
   "metadata": {},
   "outputs": [
    {
     "data": {
      "text/html": [
       "<div>\n",
       "<style scoped>\n",
       "    .dataframe tbody tr th:only-of-type {\n",
       "        vertical-align: middle;\n",
       "    }\n",
       "\n",
       "    .dataframe tbody tr th {\n",
       "        vertical-align: top;\n",
       "    }\n",
       "\n",
       "    .dataframe thead th {\n",
       "        text-align: right;\n",
       "    }\n",
       "</style>\n",
       "<table border=\"1\" class=\"dataframe\">\n",
       "  <thead>\n",
       "    <tr style=\"text-align: right;\">\n",
       "      <th></th>\n",
       "      <th>age</th>\n",
       "      <th>markas</th>\n",
       "    </tr>\n",
       "  </thead>\n",
       "  <tbody>\n",
       "    <tr>\n",
       "      <th>Swathi</th>\n",
       "      <td>20</td>\n",
       "      <td>99</td>\n",
       "    </tr>\n",
       "    <tr>\n",
       "      <th>Koushik</th>\n",
       "      <td>21</td>\n",
       "      <td>87</td>\n",
       "    </tr>\n",
       "    <tr>\n",
       "      <th>Chandhana</th>\n",
       "      <td>25</td>\n",
       "      <td>76</td>\n",
       "    </tr>\n",
       "    <tr>\n",
       "      <th>Bharath</th>\n",
       "      <td>19</td>\n",
       "      <td>87</td>\n",
       "    </tr>\n",
       "  </tbody>\n",
       "</table>\n",
       "</div>"
      ],
      "text/plain": [
       "           age  markas\n",
       "Swathi      20      99\n",
       "Koushik     21      87\n",
       "Chandhana   25      76\n",
       "Bharath     19      87"
      ]
     },
     "execution_count": 9,
     "metadata": {},
     "output_type": "execute_result"
    }
   ],
   "source": [
    "import pandas as pd\n",
    "import numpy as np\n",
    "an_array=np.array([[20,99],[21,87],[25,76],[19,87]])\n",
    "ser=pd.DataFrame(an_array,index=['Swathi','Koushik','Chandhana','Bharath'],columns=['age','markas'])\n",
    "ser\n",
    "                                                                                "
   ]
  },
  {
   "cell_type": "code",
   "execution_count": 11,
   "id": "b4dbcfba-3059-40a2-835f-a21cebf6dca8",
   "metadata": {},
   "outputs": [
    {
     "data": {
      "text/plain": [
       "array([[20, 99],\n",
       "       [21, 87],\n",
       "       [25, 76],\n",
       "       [19, 87]])"
      ]
     },
     "execution_count": 11,
     "metadata": {},
     "output_type": "execute_result"
    }
   ],
   "source": [
    "ser.values"
   ]
  },
  {
   "cell_type": "code",
   "execution_count": 13,
   "id": "3d00490d-8436-4f4d-bba4-08f51df96353",
   "metadata": {},
   "outputs": [
    {
     "data": {
      "text/plain": [
       "Index(['Swathi', 'Koushik', 'Chandhana', 'Bharath'], dtype='object')"
      ]
     },
     "execution_count": 13,
     "metadata": {},
     "output_type": "execute_result"
    }
   ],
   "source": [
    "ser.index"
   ]
  },
  {
   "cell_type": "code",
   "execution_count": 15,
   "id": "5190f61f-995f-462a-be26-41b85974eeba",
   "metadata": {},
   "outputs": [
    {
     "data": {
      "text/plain": [
       "Index(['age', 'markas'], dtype='object')"
      ]
     },
     "execution_count": 15,
     "metadata": {},
     "output_type": "execute_result"
    }
   ],
   "source": [
    "ser.columns"
   ]
  },
  {
   "cell_type": "code",
   "execution_count": 17,
   "id": "1294056b-75ab-4e56-bcf4-af3d62d57774",
   "metadata": {},
   "outputs": [
    {
     "data": {
      "text/html": [
       "<div>\n",
       "<style scoped>\n",
       "    .dataframe tbody tr th:only-of-type {\n",
       "        vertical-align: middle;\n",
       "    }\n",
       "\n",
       "    .dataframe tbody tr th {\n",
       "        vertical-align: top;\n",
       "    }\n",
       "\n",
       "    .dataframe thead th {\n",
       "        text-align: right;\n",
       "    }\n",
       "</style>\n",
       "<table border=\"1\" class=\"dataframe\">\n",
       "  <thead>\n",
       "    <tr style=\"text-align: right;\">\n",
       "      <th></th>\n",
       "      <th>Name</th>\n",
       "      <th>Age</th>\n",
       "      <th>Marks</th>\n",
       "    </tr>\n",
       "  </thead>\n",
       "  <tbody>\n",
       "    <tr>\n",
       "      <th>Vi</th>\n",
       "      <td>Vishal</td>\n",
       "      <td>21</td>\n",
       "      <td>92</td>\n",
       "    </tr>\n",
       "    <tr>\n",
       "      <th>Sa</th>\n",
       "      <td>Saipriya</td>\n",
       "      <td>20</td>\n",
       "      <td>99</td>\n",
       "    </tr>\n",
       "  </tbody>\n",
       "</table>\n",
       "</div>"
      ],
      "text/plain": [
       "        Name  Age  Marks\n",
       "Vi    Vishal   21     92\n",
       "Sa  Saipriya   20     99"
      ]
     },
     "execution_count": 17,
     "metadata": {},
     "output_type": "execute_result"
    }
   ],
   "source": [
    "import pandas as pd\n",
    "a_dict={'Name':{'Vi':'Vishal','Sa':'Saipriya'},\n",
    "        'Age':{'Vi':21,'Sa':20},\n",
    "        'Marks':{'Vi':92,'Sa':99}}\n",
    "df=pd.DataFrame(a_dict)\n",
    "df"
   ]
  },
  {
   "cell_type": "code",
   "execution_count": 19,
   "id": "9bbf5a56-8f42-4c4b-a7e2-08dfa720c54e",
   "metadata": {},
   "outputs": [
    {
     "data": {
      "text/plain": [
       "Index(['Vi', 'Sa'], dtype='object')"
      ]
     },
     "execution_count": 19,
     "metadata": {},
     "output_type": "execute_result"
    }
   ],
   "source": [
    "df.index"
   ]
  },
  {
   "cell_type": "code",
   "execution_count": 21,
   "id": "49e3651f-efbd-4aac-aca9-f7c3791913fc",
   "metadata": {},
   "outputs": [
    {
     "data": {
      "text/plain": [
       "(2, 3)"
      ]
     },
     "execution_count": 21,
     "metadata": {},
     "output_type": "execute_result"
    }
   ],
   "source": [
    "df.values.shape"
   ]
  },
  {
   "cell_type": "code",
   "execution_count": 23,
   "id": "8a27029f-28d6-41fd-95f1-b0b0565651c1",
   "metadata": {},
   "outputs": [
    {
     "data": {
      "text/plain": [
       "numpy.ndarray"
      ]
     },
     "execution_count": 23,
     "metadata": {},
     "output_type": "execute_result"
    }
   ],
   "source": [
    "type(df.values)"
   ]
  },
  {
   "cell_type": "code",
   "execution_count": 25,
   "id": "2b488e8a-52be-4c88-b1b6-467d5a5aabbb",
   "metadata": {},
   "outputs": [
    {
     "data": {
      "text/plain": [
       "Index(['Name', 'Age', 'Marks'], dtype='object')"
      ]
     },
     "execution_count": 25,
     "metadata": {},
     "output_type": "execute_result"
    }
   ],
   "source": [
    "df.columns"
   ]
  },
  {
   "cell_type": "code",
   "execution_count": 31,
   "id": "cd771b11-58e3-463b-a997-ce99fad270f9",
   "metadata": {},
   "outputs": [
    {
     "data": {
      "text/html": [
       "<div>\n",
       "<style scoped>\n",
       "    .dataframe tbody tr th:only-of-type {\n",
       "        vertical-align: middle;\n",
       "    }\n",
       "\n",
       "    .dataframe tbody tr th {\n",
       "        vertical-align: top;\n",
       "    }\n",
       "\n",
       "    .dataframe thead th {\n",
       "        text-align: right;\n",
       "    }\n",
       "</style>\n",
       "<table border=\"1\" class=\"dataframe\">\n",
       "  <thead>\n",
       "    <tr style=\"text-align: right;\">\n",
       "      <th></th>\n",
       "      <th>name</th>\n",
       "      <th>age</th>\n",
       "      <th>marks</th>\n",
       "    </tr>\n",
       "  </thead>\n",
       "  <tbody>\n",
       "    <tr>\n",
       "      <th>Ru</th>\n",
       "      <td>Rukshan</td>\n",
       "      <td>25</td>\n",
       "      <td>85</td>\n",
       "    </tr>\n",
       "    <tr>\n",
       "      <th>Pr</th>\n",
       "      <td>Prasadi</td>\n",
       "      <td>25</td>\n",
       "      <td>90</td>\n",
       "    </tr>\n",
       "    <tr>\n",
       "      <th>Gi</th>\n",
       "      <td>Gihan</td>\n",
       "      <td>26</td>\n",
       "      <td>70</td>\n",
       "    </tr>\n",
       "    <tr>\n",
       "      <th>Ha</th>\n",
       "      <td>Hansana</td>\n",
       "      <td>24</td>\n",
       "      <td>80</td>\n",
       "    </tr>\n",
       "  </tbody>\n",
       "</table>\n",
       "</div>"
      ],
      "text/plain": [
       "       name  age  marks\n",
       "Ru  Rukshan   25     85\n",
       "Pr  Prasadi   25     90\n",
       "Gi    Gihan   26     70\n",
       "Ha  Hansana   24     80"
      ]
     },
     "execution_count": 31,
     "metadata": {},
     "output_type": "execute_result"
    }
   ],
   "source": [
    "ser1 = pd. Series(['Rukshan', 'Prasadi', 'Gihan', 'Hansana'], index=['Ru', 'Pr' , 'Gi', 'Ha']) \n",
    "ser2 = pd. Series([25, 25, 26, 24], index=['Ru' , 'Pr', 'Gi', 'Ha'])\n",
    "ser3 = pd.Series([85, 90, 70, 80], index=['Ru', 'Pr' , 'Gi' , 'Ha']) \n",
    "a_dict = {'name': ser1, \n",
    "          'age': ser2, \n",
    "          'marks': ser3}\n",
    "df = pd.DataFrame(a_dict)\n",
    "df"
   ]
  },
  {
   "cell_type": "code",
   "execution_count": 3,
   "id": "be7b1b82-ce4d-421e-9a65-5f52115c0183",
   "metadata": {},
   "outputs": [
    {
     "data": {
      "text/html": [
       "<div>\n",
       "<style scoped>\n",
       "    .dataframe tbody tr th:only-of-type {\n",
       "        vertical-align: middle;\n",
       "    }\n",
       "\n",
       "    .dataframe tbody tr th {\n",
       "        vertical-align: top;\n",
       "    }\n",
       "\n",
       "    .dataframe thead th {\n",
       "        text-align: right;\n",
       "    }\n",
       "</style>\n",
       "<table border=\"1\" class=\"dataframe\">\n",
       "  <thead>\n",
       "    <tr style=\"text-align: right;\">\n",
       "      <th></th>\n",
       "      <th>Name</th>\n",
       "      <th>Age</th>\n",
       "      <th>Marks</th>\n",
       "    </tr>\n",
       "  </thead>\n",
       "  <tbody>\n",
       "    <tr>\n",
       "      <th>Sw</th>\n",
       "      <td>Vishal</td>\n",
       "      <td>21</td>\n",
       "      <td>92</td>\n",
       "    </tr>\n",
       "    <tr>\n",
       "      <th>Ch</th>\n",
       "      <td>Saipriya</td>\n",
       "      <td>20</td>\n",
       "      <td>99</td>\n",
       "    </tr>\n",
       "  </tbody>\n",
       "</table>\n",
       "</div>"
      ],
      "text/plain": [
       "        Name  Age  Marks\n",
       "Sw    Vishal   21     92\n",
       "Ch  Saipriya   20     99"
      ]
     },
     "execution_count": 3,
     "metadata": {},
     "output_type": "execute_result"
    }
   ],
   "source": [
    "import pandas as pd\n",
    "a_dict={'Name':{'Sw':'Vishal','Ch':'Saipriya'},\n",
    "        'Age':{'Sw':21,'Ch':20},\n",
    "        'Marks':{'Sw':92,'Ch':99}}\n",
    "df=pd.DataFrame(a_dict)\n",
    "df"
   ]
  },
  {
   "cell_type": "code",
   "execution_count": null,
   "id": "cfd32ee7-35cc-43ef-a24b-7b36ec1ce3f8",
   "metadata": {},
   "outputs": [],
   "source": []
  }
 ],
 "metadata": {
  "kernelspec": {
   "display_name": "Python 3 (ipykernel)",
   "language": "python",
   "name": "python3"
  },
  "language_info": {
   "codemirror_mode": {
    "name": "ipython",
    "version": 3
   },
   "file_extension": ".py",
   "mimetype": "text/x-python",
   "name": "python",
   "nbconvert_exporter": "python",
   "pygments_lexer": "ipython3",
   "version": "3.12.7"
  }
 },
 "nbformat": 4,
 "nbformat_minor": 5
}
