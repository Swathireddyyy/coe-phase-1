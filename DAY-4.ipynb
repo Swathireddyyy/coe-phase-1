{
 "cells": [
  {
   "cell_type": "code",
   "execution_count": 1,
   "id": "b62d02c7-2370-427c-b796-30e0e8832608",
   "metadata": {},
   "outputs": [
    {
     "name": "stdin",
     "output_type": "stream",
     "text": [
      "Enter your Name swathi\n",
      "Enter your Mobile Number 827192382\n",
      "Enter your email id swathi@gmail.com\n",
      "enter your password swathi961\n"
     ]
    },
    {
     "name": "stdout",
     "output_type": "stream",
     "text": [
      "Name: swathi\n",
      "Mobile number should contain 10 digits\n",
      "Email-id: swathi@gmail.com\n",
      "password should contain atleast 1 uppercase\n"
     ]
    }
   ],
   "source": [
    "import re\n",
    "name=input(\"Enter your Name\")\n",
    "mobile=input(\"Enter your Mobile Number\")\n",
    "email=input(\"Enter your email id\")\n",
    "password=input(\"enter your password\")\n",
    "lower=0\n",
    "upper=0\n",
    "digit=0\n",
    "special=0\n",
    "if(name.isalpha()):\n",
    "    if((len(name)>=3) or  (len(name)<=15)):\n",
    "        print(\"Name:\",name)\n",
    "    else:\n",
    "        print(\"Name should contain 3-15 characters only\")\n",
    "else:\n",
    "    print(\"Name should contain only alphabets\")\n",
    "if(mobile.isdigit()):\n",
    "    if(len(mobile)==10):\n",
    "        if(mobile.startswith('9') or mobile.startswith('8') or mobile.startswith('7') or mobile.startswith('9')):\n",
    "            print(\"Mobile Number :\",mobile)\n",
    "        else:\n",
    "            print(\"please enter valid mobile number\")\n",
    "    else:\n",
    "        print(\"Mobile number should contain 10 digits\")\n",
    "else:\n",
    "    print(\"Mobile number contains only numbers\")\n",
    "if (email[0].isalnum):\n",
    "    if(5<=(len(email))<=25):\n",
    "        if(email.endswith('.com') or email.endswith('.in')):\n",
    "            print(\"Email-id:\",email)\n",
    "        else:\n",
    "            print(\"please enter valid email-id\")\n",
    "    else:\n",
    "        print(\"Email should contain 5-20 characters only\")\n",
    "else:\n",
    "    print(\"email id should sharts with digits or alphabet only\")\n",
    "for i in password:\n",
    "    if(i.islower()):\n",
    "        lower+=1\n",
    "    elif(i.isupper()):\n",
    "        upper+=1\n",
    "    elif(i.isdigit()):\n",
    "        digit+=1\n",
    "spl= re.findall(r\"[, #$*@.!?]\", password)\n",
    "if(lower>=1):\n",
    "    if(upper>=1):\n",
    "        if(digit>=1):\n",
    "            if(len(spl)>=1):\n",
    "                print(\"Password:\",password)\n",
    "            else:\n",
    "                print(\"password should contain atleast 1 special character\")\n",
    "        else:\n",
    "            print(\"password should contain atleast 1 digit \")\n",
    "    else:\n",
    "        print(\"password should contain atleast 1 uppercase\")\n",
    "else:\n",
    "    print(\"password should contain atleast 1 lowercase\")\n",
    "    "
   ]
  },
  {
   "cell_type": "code",
   "execution_count": 5,
   "id": "5ba671ad-fcbc-4f67-90d4-71ec7c6a02c4",
   "metadata": {},
   "outputs": [
    {
     "name": "stdin",
     "output_type": "stream",
     "text": [
      "enter your password Swathi@123\n"
     ]
    },
    {
     "name": "stdout",
     "output_type": "stream",
     "text": [
      "Password: Swathi@123\n"
     ]
    }
   ],
   "source": [
    "import re\n",
    "password=input(\"enter your password\")\n",
    "lower=0\n",
    "upper=0\n",
    "digit=0\n",
    "for i in password:\n",
    "    if(i.islower()):\n",
    "        lower+=1\n",
    "    elif(i.isupper()):\n",
    "        upper+=1\n",
    "    elif(i.isdigit()):\n",
    "        digit+=1\n",
    "spl= re.findall(r\"[, #$*@.!?]\", password)\n",
    "if(lower>=1):\n",
    "    if(upper>=1):\n",
    "        if(digit>=1):\n",
    "            if(len(spl)>=1):\n",
    "                print(\"Password:\",password)\n",
    "            else:\n",
    "                print(\"password should contain atleast 1 special character\")\n",
    "        else:\n",
    "            print(\"password should contain atleast 1 digit \")\n",
    "    else:\n",
    "        print(\"password should contain atleast 1 uppercase\")\n",
    "else:\n",
    "    print(\"password should contain atleast 1 lowercase\")"
   ]
  },
  {
   "cell_type": "code",
   "execution_count": null,
   "id": "667b127f-369a-4f4a-8e96-f81567bdc0f2",
   "metadata": {},
   "outputs": [],
   "source": [
    "Objective:\n",
    "Simulate basic ATM operations with validation and transaction rules.\n",
    "1. User must enter a valid 4-digit PIN to access ATM features.\n",
    " Features & Rules:\n",
    "PIN Validation\n",
    "I. User must enter the correct 4-digit PIN to proceed.\n",
    "I. Deposit\n",
    "1. Amount must be in multiples of ₹100.\n",
    "2. Maximum per transaction: ₹20,000.\n",
    "II. Withdraw\n",
    "1. Amount must be in multiples of ₹100.\n",
    "2. Must not exceed account balance.\n",
    "3.Maximum per transaction: ₹20,000.\n",
    "\n",
    "III. Balance Enquiry\n",
    "Display current balance to the user.\n",
    "\n",
    "Assignment Note:\n",
    "Implement each operation as a function, handle invalid inputs, and display clear messages. Initial balance can be assumed (e.g., ₹10,000)."
   ]
  },
  {
   "cell_type": "code",
   "execution_count": 10,
   "id": "bfca202b-84bd-4237-a3d1-8dfc23c854c6",
   "metadata": {},
   "outputs": [
    {
     "ename": "IndentationError",
     "evalue": "unexpected indent (2820870817.py, line 15)",
     "output_type": "error",
     "traceback": [
      "\u001b[1;36m  Cell \u001b[1;32mIn[10], line 15\u001b[1;36m\u001b[0m\n\u001b[1;33m    pin=1234\u001b[0m\n\u001b[1;37m    ^\u001b[0m\n\u001b[1;31mIndentationError\u001b[0m\u001b[1;31m:\u001b[0m unexpected indent\n"
     ]
    }
   ],
   "source": [
    "\n",
    "            prdef validate():\n",
    "    if(pin==vpin):\n",
    "        print(\"Valid PIN \\nChoose The Options\")\n",
    "        opt=int(input(\" 1.Deposit\\n 2.Withdraw\\n 3.Balance Enquiry\"))\n",
    "    else:\n",
    "        print(\"Please Enter valid pin\")\n",
    "    if(opt==1):\n",
    "        deposit()\n",
    "    elif(opt==2):\n",
    "        withdraw()\n",
    "    else:\n",
    "        balance()\n",
    "validate()\n",
    "\n",
    "        vpin=1234\n",
    "pin=int(input(\"Enter pin : \"))\n",
    "acbal=10000\n",
    "def deposit():\n",
    "    amt=int(input(\"Enter Amount to be Deposit\"))\n",
    "    if(amt%100==0):\n",
    "        if(amt<=20000):\n",
    "            bal=acbal\n",
    "            bal=bal+amt\n",
    "            print(\"Deposit Successfull \\n Your Account Balance is: \",bal)\n",
    "        else:\n",
    "            print(\"Amount Transaction Should be not more than 20000\")\n",
    "    else:\n",
    "        (\"Please Deposit Amount that is multiple of 100\")\n",
    "def withdraw():\n",
    "    amt=int(input(\"Enter Amount to Withdraw\"))\n",
    "    if(amt%100==0):\n",
    "        if(amt<=acbal):\n",
    "            bal=acbal\n",
    "            bal=bal-amt\n",
    "            print(\"Withdraw Successfull \\n Your Account Balance is: \",bal)\n",
    "        else:int(\"Amount Transaction Should be not more than 20000\")\n",
    "    else:\n",
    "        (\"Please Deposit Amount that is multiple of 100\")\n",
    "\n",
    "def balance():\n",
    "    print(\"Your Account Balance is :\",acbal)"
   ]
  },
  {
   "cell_type": "code",
   "execution_count": null,
   "id": "39c3bdee-af24-4122-904c-e8ba3f2e7718",
   "metadata": {},
   "outputs": [],
   "source": []
  },
  {
   "cell_type": "code",
   "execution_count": null,
   "id": "0b3bcf76-e020-4a87-bec0-097f20c318f9",
   "metadata": {},
   "outputs": [],
   "source": []
  }
 ],
 "metadata": {
  "kernelspec": {
   "display_name": "Python [conda env:base] *",
   "language": "python",
   "name": "conda-base-py"
  },
  "language_info": {
   "codemirror_mode": {
    "name": "ipython",
    "version": 3
   },
   "file_extension": ".py",
   "mimetype": "text/x-python",
   "name": "python",
   "nbconvert_exporter": "python",
   "pygments_lexer": "ipython3",
   "version": "3.12.7"
  }
 },
 "nbformat": 4,
 "nbformat_minor": 5
}
