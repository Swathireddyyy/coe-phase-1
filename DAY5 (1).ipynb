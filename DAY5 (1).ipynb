{
 "cells": [
  {
   "cell_type": "code",
   "execution_count": 3,
   "id": "6d6be10e-0aec-4740-b48b-7fcab31d0e70",
   "metadata": {},
   "outputs": [
    {
     "name": "stdout",
     "output_type": "stream",
     "text": [
      "sub:   15\n",
      "add:   10\n",
      "div:   10\n"
     ]
    }
   ],
   "source": [
    "class Bank:\n",
    "    def add (self):\n",
    "        a=10\n",
    "        print(\"add:  \",a)\n",
    "    def sub (self):\n",
    "        a=15\n",
    "        print(\"sub:  \",a)\n",
    "    def div (self):\n",
    "        a=10\n",
    "        print(\"div:  \",a)\n",
    "obj=Bank()\n",
    "obj.sub()\n",
    "obj.add()\n",
    "obj.div()"
   ]
  },
  {
   "cell_type": "code",
   "execution_count": 5,
   "id": "b00a0f1a-9bb1-4a54-88ac-dc034546d75b",
   "metadata": {},
   "outputs": [
    {
     "name": "stdout",
     "output_type": "stream",
     "text": [
      "sub:   40\n",
      "add:   10\n",
      "div:   40\n"
     ]
    }
   ],
   "source": [
    "class Bank:\n",
    "    a=40\n",
    "    def add (self):\n",
    "        a=10\n",
    "        print(\"add:  \",a)\n",
    "    def sub (self):\n",
    "        a=15\n",
    "        print(\"sub:  \",self.a)\n",
    "    def div (self):\n",
    "        a=10\n",
    "        print(\"div:  \",self.a)\n",
    "obj=Bank()\n",
    "obj.sub()\n",
    "obj.add()\n",
    "obj.div()"
   ]
  },
  {
   "cell_type": "code",
   "execution_count": null,
   "id": "b149fea6-7efe-4e42-aba5-e3f4a89bf4a2",
   "metadata": {},
   "outputs": [],
   "source": [
    "class Bank:\n",
    "    pin=1234\n",
    "    def validate(self):\n",
    "        pin=int(input(\"enter your pin:  \"))\n",
    "        if self.pin==pin:\n",
    "            print(\"Valid Pin\")\n",
    "            #obj.viewOptions()\n",
    "        else:\n",
    "\n",
    "\n",
    "\n",
    "\n",
    "\n",
    "\n",
    "\n",
    "    def withdraw(self):\n",
    "        amt=int(input(\"Enter withdraw amount: \"))\n",
    "        if amt%100==0:\n",
    "            if amt<=self.acbal:\n",
    "                if amt<=20000:\n",
    "                    self.acbal-=amt\n",
    "                    self.wcount+==1\n",
    "                    print(\"Avalilable bal is : \",self.acbal)\n",
    "                    if self.wcount<=3:\n",
    "\n",
    "                    else:\n",
    "                        print(\"Transition limit is 20000 only\")\n",
    "                else:\n",
    "                    print(\"Insuffient Fund\")\n",
    "            else:\n",
    "                print(\"Please enter multiples of 100 only\")\n",
    "                \n",
    "\n",
    "\n",
    "\n",
    "\n",
    "Bank\n",
    "            \n",
    "            "
   ]
  },
  {
   "cell_type": "code",
   "execution_count": 1,
   "id": "9ebe9cb9-6add-4a12-b8de-4921c34926e2",
   "metadata": {},
   "outputs": [
    {
     "name": "stdin",
     "output_type": "stream",
     "text": [
      "Enter your pin :  1234\n"
     ]
    },
    {
     "name": "stdout",
     "output_type": "stream",
     "text": [
      "1. Deposit \n",
      "2. Withdarw \n",
      "3. Bal Enquiry \n",
      "0. EXIT \n"
     ]
    },
    {
     "name": "stdin",
     "output_type": "stream",
     "text": [
      "Choose your option 1\n",
      "Enter deposit amount :  5000\n"
     ]
    },
    {
     "name": "stdout",
     "output_type": "stream",
     "text": [
      "Avaialble bal is :  15000\n"
     ]
    },
    {
     "name": "stdin",
     "output_type": "stream",
     "text": [
      "1.Continue  \n",
      " 0. EXIT  3\n"
     ]
    },
    {
     "name": "stdout",
     "output_type": "stream",
     "text": [
      "Thank you, Visit again \n"
     ]
    }
   ],
   "source": [
    "class Bank:\n",
    "    pin=1234\n",
    "    pincount=1\n",
    "    acbal=10000\n",
    "    wcount=0\n",
    "    def viewOptions(self):\n",
    "        print(\"1. Deposit \")\n",
    "        print(\"2. Withdarw \")\n",
    "        print(\"3. Bal Enquiry \")\n",
    "        print(\"0. EXIT \")\n",
    "        opt=int(input(\"Choose your option\"))\n",
    "        if opt==1:\n",
    "            obj.deposit()\n",
    "            obj.confirm()\n",
    "        elif opt==2:\n",
    "            if self.wcount<3:\n",
    "                obj.withdraw()\n",
    "                obj.confirm()\n",
    "            else:\n",
    "                print(\"Withdraw limit is over, please try after 24 hrs\")\n",
    "        \n",
    "    \n",
    "    def validate(self):\n",
    "        pin=int(input(\"Enter your pin : \"))\n",
    "        if self.pin==pin:\n",
    "           obj.viewOptions()\n",
    "        else:\n",
    "            self.pincount+=1\n",
    "            if self.pincount<=3:\n",
    "                print(\"Invalid pin, please try again\")\n",
    "                obj.validate()\n",
    "            else:\n",
    "                print(\"Your card is blocked for the day\")\n",
    "    def deposit(self):\n",
    "        amt=int(input(\"Enter deposit amount : \"))\n",
    "        if amt%100==0:\n",
    "            if amt<=50000:\n",
    "                self.acbal+=amt\n",
    "                print(\"Avaialble bal is : \",self.acbal)\n",
    "            else:\n",
    "                print(\"Transaction limit is 20000 only\")\n",
    "                \n",
    "        else:\n",
    "            print(\"Please enter multiples of 100 \")\n",
    "        \n",
    "    def confirm(self):\n",
    "        opt=int(input(\"1.Continue  \\n 0. EXIT \"))\n",
    "        if opt==1:\n",
    "                obj.viewOptions()\n",
    "        else:\n",
    "            print(\"Thank you, Visit again \")\n",
    "    def withdraw(self):\n",
    "        amt=int(input(\"Enter withdraw amount : \"))\n",
    "        if amt%100==0:\n",
    "            if amt<=self.acbal:\n",
    "                if amt<=20000:\n",
    "                    self.acbal-=amt\n",
    "                    self.wcount+=1\n",
    "                    print(\"Avalilable bal is : \",self.acbal)\n",
    "                        \n",
    "                else:\n",
    "                    print(\"Transaction limit is 20000 only\")\n",
    "            else:\n",
    "                print(\"insuffient fund \")\n",
    "        else:\n",
    "            print(\"Please enter multiples of 100 only\")\n",
    "            \n",
    "            \n",
    "obj=Bank()\n",
    "obj.validate()"
   ]
  },
  {
   "cell_type": "code",
   "execution_count": null,
   "id": "b96b9e17-6dd2-4291-8131-caf87f4e6538",
   "metadata": {},
   "outputs": [],
   "source": []
  }
 ],
 "metadata": {
  "kernelspec": {
   "display_name": "Python [conda env:base] *",
   "language": "python",
   "name": "conda-base-py"
  },
  "language_info": {
   "codemirror_mode": {
    "name": "ipython",
    "version": 3
   },
   "file_extension": ".py",
   "mimetype": "text/x-python",
   "name": "python",
   "nbconvert_exporter": "python",
   "pygments_lexer": "ipython3",
   "version": "3.12.7"
  }
 },
 "nbformat": 4,
 "nbformat_minor": 5
}
